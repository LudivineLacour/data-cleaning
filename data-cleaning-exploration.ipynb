{
 "cells": [
  {
   "cell_type": "markdown",
   "metadata": {},
   "source": [
    "# MoMa's collection data cleaning\n",
    "\n",
    "## Problem solving\n",
    "I'm working for the MoMa and they'd like to know in which department they need to enrich based on the current collection. \n",
    "\n",
    "**What is the Top-3 less valuable classification?**"
   ]
  },
  {
   "cell_type": "code",
   "execution_count": 1,
   "metadata": {},
   "outputs": [],
   "source": [
    "import numpy as np\n",
    "import pandas as pd\n",
    "import re"
   ]
  },
  {
   "cell_type": "code",
   "execution_count": 2,
   "metadata": {},
   "outputs": [
    {
     "name": "stderr",
     "output_type": "stream",
     "text": [
      "/opt/anaconda3/lib/python3.7/site-packages/IPython/core/interactiveshell.py:3058: DtypeWarning: Columns (0,18) have mixed types.Specify dtype option on import or set low_memory=False.\n",
      "  interactivity=interactivity, compiler=compiler, result=result)\n"
     ]
    },
    {
     "data": {
      "text/html": [
       "<div>\n",
       "<style scoped>\n",
       "    .dataframe tbody tr th:only-of-type {\n",
       "        vertical-align: middle;\n",
       "    }\n",
       "\n",
       "    .dataframe tbody tr th {\n",
       "        vertical-align: top;\n",
       "    }\n",
       "\n",
       "    .dataframe thead th {\n",
       "        text-align: right;\n",
       "    }\n",
       "</style>\n",
       "<table border=\"1\" class=\"dataframe\">\n",
       "  <thead>\n",
       "    <tr style=\"text-align: right;\">\n",
       "      <th></th>\n",
       "      <th>Unnamed: 0</th>\n",
       "      <th>Title</th>\n",
       "      <th>Artist</th>\n",
       "      <th>ConstituentID</th>\n",
       "      <th>ArtistBio</th>\n",
       "      <th>Nationality</th>\n",
       "      <th>BeginDate</th>\n",
       "      <th>EndDate</th>\n",
       "      <th>Gender</th>\n",
       "      <th>Date</th>\n",
       "      <th>...</th>\n",
       "      <th>ThumbnailURL</th>\n",
       "      <th>Circumference (cm)</th>\n",
       "      <th>Depth (cm)</th>\n",
       "      <th>Diameter (cm)</th>\n",
       "      <th>Height (cm)</th>\n",
       "      <th>Length (cm)</th>\n",
       "      <th>Weight (kg)</th>\n",
       "      <th>Width (cm)</th>\n",
       "      <th>Seat Height (cm)</th>\n",
       "      <th>Duration (sec.)</th>\n",
       "    </tr>\n",
       "  </thead>\n",
       "  <tbody>\n",
       "    <tr>\n",
       "      <th>0</th>\n",
       "      <td>0</td>\n",
       "      <td>Ferdinandsbrücke Project, Vienna, Austria, Ele...</td>\n",
       "      <td>Otto Wagner</td>\n",
       "      <td>6210</td>\n",
       "      <td>(Austrian, 1841–1918)</td>\n",
       "      <td>(Austrian)</td>\n",
       "      <td>(1841)</td>\n",
       "      <td>(1918)</td>\n",
       "      <td>(Male)</td>\n",
       "      <td>1896</td>\n",
       "      <td>...</td>\n",
       "      <td>http://www.moma.org/media/W1siZiIsIjU5NDA1Il0s...</td>\n",
       "      <td>NaN</td>\n",
       "      <td>NaN</td>\n",
       "      <td>NaN</td>\n",
       "      <td>48.6000</td>\n",
       "      <td>NaN</td>\n",
       "      <td>NaN</td>\n",
       "      <td>168.9000</td>\n",
       "      <td>NaN</td>\n",
       "      <td>NaN</td>\n",
       "    </tr>\n",
       "    <tr>\n",
       "      <th>1</th>\n",
       "      <td>1</td>\n",
       "      <td>City of Music, National Superior Conservatory ...</td>\n",
       "      <td>Christian de Portzamparc</td>\n",
       "      <td>7470</td>\n",
       "      <td>(French, born 1944)</td>\n",
       "      <td>(French)</td>\n",
       "      <td>(1944)</td>\n",
       "      <td>(0)</td>\n",
       "      <td>(Male)</td>\n",
       "      <td>1987</td>\n",
       "      <td>...</td>\n",
       "      <td>http://www.moma.org/media/W1siZiIsIjk3Il0sWyJw...</td>\n",
       "      <td>NaN</td>\n",
       "      <td>NaN</td>\n",
       "      <td>NaN</td>\n",
       "      <td>40.6401</td>\n",
       "      <td>NaN</td>\n",
       "      <td>NaN</td>\n",
       "      <td>29.8451</td>\n",
       "      <td>NaN</td>\n",
       "      <td>NaN</td>\n",
       "    </tr>\n",
       "    <tr>\n",
       "      <th>2</th>\n",
       "      <td>2</td>\n",
       "      <td>Villa near Vienna Project, Outside Vienna, Aus...</td>\n",
       "      <td>Emil Hoppe</td>\n",
       "      <td>7605</td>\n",
       "      <td>(Austrian, 1876–1957)</td>\n",
       "      <td>(Austrian)</td>\n",
       "      <td>(1876)</td>\n",
       "      <td>(1957)</td>\n",
       "      <td>(Male)</td>\n",
       "      <td>1903</td>\n",
       "      <td>...</td>\n",
       "      <td>http://www.moma.org/media/W1siZiIsIjk4Il0sWyJw...</td>\n",
       "      <td>NaN</td>\n",
       "      <td>NaN</td>\n",
       "      <td>NaN</td>\n",
       "      <td>34.3000</td>\n",
       "      <td>NaN</td>\n",
       "      <td>NaN</td>\n",
       "      <td>31.8000</td>\n",
       "      <td>NaN</td>\n",
       "      <td>NaN</td>\n",
       "    </tr>\n",
       "    <tr>\n",
       "      <th>3</th>\n",
       "      <td>3</td>\n",
       "      <td>The Manhattan Transcripts Project, New York, N...</td>\n",
       "      <td>Bernard Tschumi</td>\n",
       "      <td>7056</td>\n",
       "      <td>(French and Swiss, born Switzerland 1944)</td>\n",
       "      <td>()</td>\n",
       "      <td>(1944)</td>\n",
       "      <td>(0)</td>\n",
       "      <td>(Male)</td>\n",
       "      <td>1980</td>\n",
       "      <td>...</td>\n",
       "      <td>http://www.moma.org/media/W1siZiIsIjEyNCJdLFsi...</td>\n",
       "      <td>NaN</td>\n",
       "      <td>NaN</td>\n",
       "      <td>NaN</td>\n",
       "      <td>50.8000</td>\n",
       "      <td>NaN</td>\n",
       "      <td>NaN</td>\n",
       "      <td>50.8000</td>\n",
       "      <td>NaN</td>\n",
       "      <td>NaN</td>\n",
       "    </tr>\n",
       "    <tr>\n",
       "      <th>4</th>\n",
       "      <td>4</td>\n",
       "      <td>Villa, project, outside Vienna, Austria, Exter...</td>\n",
       "      <td>Emil Hoppe</td>\n",
       "      <td>7605</td>\n",
       "      <td>(Austrian, 1876–1957)</td>\n",
       "      <td>(Austrian)</td>\n",
       "      <td>(1876)</td>\n",
       "      <td>(1957)</td>\n",
       "      <td>(Male)</td>\n",
       "      <td>1903</td>\n",
       "      <td>...</td>\n",
       "      <td>http://www.moma.org/media/W1siZiIsIjEyNiJdLFsi...</td>\n",
       "      <td>NaN</td>\n",
       "      <td>NaN</td>\n",
       "      <td>NaN</td>\n",
       "      <td>38.4000</td>\n",
       "      <td>NaN</td>\n",
       "      <td>NaN</td>\n",
       "      <td>19.1000</td>\n",
       "      <td>NaN</td>\n",
       "      <td>NaN</td>\n",
       "    </tr>\n",
       "  </tbody>\n",
       "</table>\n",
       "<p>5 rows × 30 columns</p>\n",
       "</div>"
      ],
      "text/plain": [
       "  Unnamed: 0                                              Title  \\\n",
       "0          0  Ferdinandsbrücke Project, Vienna, Austria, Ele...   \n",
       "1          1  City of Music, National Superior Conservatory ...   \n",
       "2          2  Villa near Vienna Project, Outside Vienna, Aus...   \n",
       "3          3  The Manhattan Transcripts Project, New York, N...   \n",
       "4          4  Villa, project, outside Vienna, Austria, Exter...   \n",
       "\n",
       "                     Artist ConstituentID  \\\n",
       "0               Otto Wagner          6210   \n",
       "1  Christian de Portzamparc          7470   \n",
       "2                Emil Hoppe          7605   \n",
       "3           Bernard Tschumi          7056   \n",
       "4                Emil Hoppe          7605   \n",
       "\n",
       "                                   ArtistBio Nationality BeginDate EndDate  \\\n",
       "0                      (Austrian, 1841–1918)  (Austrian)    (1841)  (1918)   \n",
       "1                        (French, born 1944)    (French)    (1944)     (0)   \n",
       "2                      (Austrian, 1876–1957)  (Austrian)    (1876)  (1957)   \n",
       "3  (French and Swiss, born Switzerland 1944)          ()    (1944)     (0)   \n",
       "4                      (Austrian, 1876–1957)  (Austrian)    (1876)  (1957)   \n",
       "\n",
       "   Gender  Date  ...                                       ThumbnailURL  \\\n",
       "0  (Male)  1896  ...  http://www.moma.org/media/W1siZiIsIjU5NDA1Il0s...   \n",
       "1  (Male)  1987  ...  http://www.moma.org/media/W1siZiIsIjk3Il0sWyJw...   \n",
       "2  (Male)  1903  ...  http://www.moma.org/media/W1siZiIsIjk4Il0sWyJw...   \n",
       "3  (Male)  1980  ...  http://www.moma.org/media/W1siZiIsIjEyNCJdLFsi...   \n",
       "4  (Male)  1903  ...  http://www.moma.org/media/W1siZiIsIjEyNiJdLFsi...   \n",
       "\n",
       "  Circumference (cm) Depth (cm) Diameter (cm) Height (cm) Length (cm)  \\\n",
       "0                NaN        NaN           NaN     48.6000         NaN   \n",
       "1                NaN        NaN           NaN     40.6401         NaN   \n",
       "2                NaN        NaN           NaN     34.3000         NaN   \n",
       "3                NaN        NaN           NaN     50.8000         NaN   \n",
       "4                NaN        NaN           NaN     38.4000         NaN   \n",
       "\n",
       "  Weight (kg) Width (cm) Seat Height (cm) Duration (sec.)  \n",
       "0         NaN   168.9000              NaN             NaN  \n",
       "1         NaN    29.8451              NaN             NaN  \n",
       "2         NaN    31.8000              NaN             NaN  \n",
       "3         NaN    50.8000              NaN             NaN  \n",
       "4         NaN    19.1000              NaN             NaN  \n",
       "\n",
       "[5 rows x 30 columns]"
      ]
     },
     "execution_count": 2,
     "metadata": {},
     "output_type": "execute_result"
    }
   ],
   "source": [
    "df=pd.read_csv('data/museum_modern_art.csv',sep=',')\n",
    "df.head()"
   ]
  },
  {
   "cell_type": "code",
   "execution_count": 51,
   "metadata": {},
   "outputs": [
    {
     "data": {
      "text/plain": [
       "0                             (Austrian, 1841–1918)\n",
       "1                               (French, born 1944)\n",
       "2                             (Austrian, 1876–1957)\n",
       "3         (French and Swiss, born Switzerland 1944)\n",
       "4                             (Austrian, 1876–1957)\n",
       "                            ...                    \n",
       "152482                                          NaN\n",
       "152483                                          NaN\n",
       "152484                        (Austrian, 1919–2014)\n",
       "152485                        (Austrian, 1919–2014)\n",
       "152486                        (Austrian, 1919–2014)\n",
       "Name: ArtistBio, Length: 152487, dtype: object"
      ]
     },
     "execution_count": 51,
     "metadata": {},
     "output_type": "execute_result"
    }
   ],
   "source": [
    "df.loc[:,'ArtistBio']"
   ]
  },
  {
   "cell_type": "code",
   "execution_count": 3,
   "metadata": {},
   "outputs": [
    {
     "data": {
      "text/plain": [
       "Unnamed: 0             object\n",
       "Title                  object\n",
       "Artist                 object\n",
       "ConstituentID          object\n",
       "ArtistBio              object\n",
       "Nationality            object\n",
       "BeginDate              object\n",
       "EndDate                object\n",
       "Gender                 object\n",
       "Date                   object\n",
       "Medium                 object\n",
       "Dimensions             object\n",
       "CreditLine             object\n",
       "AccessionNumber        object\n",
       "Classification         object\n",
       "Department             object\n",
       "DateAcquired           object\n",
       "Cataloged              object\n",
       "ObjectID               object\n",
       "URL                    object\n",
       "ThumbnailURL           object\n",
       "Circumference (cm)    float64\n",
       "Depth (cm)            float64\n",
       "Diameter (cm)         float64\n",
       "Height (cm)           float64\n",
       "Length (cm)           float64\n",
       "Weight (kg)           float64\n",
       "Width (cm)            float64\n",
       "Seat Height (cm)      float64\n",
       "Duration (sec.)       float64\n",
       "dtype: object"
      ]
     },
     "execution_count": 3,
     "metadata": {},
     "output_type": "execute_result"
    }
   ],
   "source": [
    "df.dtypes"
   ]
  },
  {
   "cell_type": "code",
   "execution_count": null,
   "metadata": {},
   "outputs": [],
   "source": [
    "df.shape"
   ]
  },
  {
   "cell_type": "markdown",
   "metadata": {},
   "source": [
    "## Renaming columns"
   ]
  },
  {
   "cell_type": "code",
   "execution_count": 4,
   "metadata": {},
   "outputs": [],
   "source": [
    "df1=df.rename(columns={'Unnamed: 0':'Id'})"
   ]
  },
  {
   "cell_type": "code",
   "execution_count": null,
   "metadata": {},
   "outputs": [],
   "source": [
    "df1.columns"
   ]
  },
  {
   "cell_type": "markdown",
   "metadata": {},
   "source": [
    "## Drop empty and useless tables"
   ]
  },
  {
   "cell_type": "code",
   "execution_count": 5,
   "metadata": {},
   "outputs": [
    {
     "data": {
      "text/plain": [
       "Title                   0.03\n",
       "Artist                 12.20\n",
       "ConstituentID          12.20\n",
       "ArtistBio              14.81\n",
       "Nationality            12.20\n",
       "BeginDate              12.20\n",
       "EndDate                12.20\n",
       "Gender                 12.20\n",
       "Date                   12.84\n",
       "Medium                 18.64\n",
       "Dimensions             18.40\n",
       "CreditLine             13.14\n",
       "AccessionNumber        11.26\n",
       "Classification         11.26\n",
       "Department             11.26\n",
       "DateAcquired           15.62\n",
       "Cataloged              11.26\n",
       "ObjectID               11.26\n",
       "URL                    49.17\n",
       "ThumbnailURL           56.12\n",
       "Circumference (cm)     99.99\n",
       "Depth (cm)             91.45\n",
       "Diameter (cm)          99.07\n",
       "Height (cm)            23.75\n",
       "Length (cm)            99.52\n",
       "Weight (kg)            99.81\n",
       "Width (cm)             24.34\n",
       "Seat Height (cm)      100.00\n",
       "Duration (sec.)        97.93\n",
       "dtype: float64"
      ]
     },
     "execution_count": 5,
     "metadata": {},
     "output_type": "execute_result"
    }
   ],
   "source": [
    "null_col=df1.isna().sum()\n",
    "null_col_percent=round(null_col[null_col>0]/df1.shape[0]*100,2)\n",
    "null_col_percent"
   ]
  },
  {
   "cell_type": "code",
   "execution_count": 6,
   "metadata": {},
   "outputs": [],
   "source": [
    "drop_cols=null_col_percent[null_col_percent>50].index\n",
    "df2=df1.drop(drop_cols,axis=1)"
   ]
  },
  {
   "cell_type": "code",
   "execution_count": null,
   "metadata": {},
   "outputs": [],
   "source": [
    "df2.shape"
   ]
  },
  {
   "cell_type": "markdown",
   "metadata": {},
   "source": [
    "## Remove Duplicates"
   ]
  },
  {
   "cell_type": "code",
   "execution_count": 7,
   "metadata": {},
   "outputs": [
    {
     "data": {
      "text/plain": [
       "17168"
      ]
     },
     "execution_count": 7,
     "metadata": {},
     "output_type": "execute_result"
    }
   ],
   "source": [
    "df3=df2.copy()\n",
    "df3.iloc[:,:].duplicated().sum()"
   ]
  },
  {
   "cell_type": "code",
   "execution_count": 8,
   "metadata": {},
   "outputs": [
    {
     "name": "stdout",
     "output_type": "stream",
     "text": [
      "(152487, 22)\n",
      "(135319, 22)\n"
     ]
    }
   ],
   "source": [
    "print(df3.iloc[:,:].shape)\n",
    "df4=df3.iloc[:,:].drop_duplicates()\n",
    "print(df4.iloc[:,:].shape)"
   ]
  },
  {
   "cell_type": "markdown",
   "metadata": {},
   "source": [
    "## Put off parenthesis on text in relevant columns"
   ]
  },
  {
   "cell_type": "code",
   "execution_count": 9,
   "metadata": {},
   "outputs": [],
   "source": [
    "parenthesis_col=['ArtistBio','Nationality','BeginDate','EndDate','Gender','Date']\n",
    "parenthesis_col\n",
    "\n",
    "df5=df4.copy()"
   ]
  },
  {
   "cell_type": "code",
   "execution_count": 32,
   "metadata": {
    "scrolled": true
   },
   "outputs": [
    {
     "data": {
      "text/html": [
       "<div>\n",
       "<style scoped>\n",
       "    .dataframe tbody tr th:only-of-type {\n",
       "        vertical-align: middle;\n",
       "    }\n",
       "\n",
       "    .dataframe tbody tr th {\n",
       "        vertical-align: top;\n",
       "    }\n",
       "\n",
       "    .dataframe thead th {\n",
       "        text-align: right;\n",
       "    }\n",
       "</style>\n",
       "<table border=\"1\" class=\"dataframe\">\n",
       "  <thead>\n",
       "    <tr style=\"text-align: right;\">\n",
       "      <th></th>\n",
       "      <th>Id</th>\n",
       "      <th>Title</th>\n",
       "      <th>Artist</th>\n",
       "      <th>ConstituentID</th>\n",
       "      <th>ArtistBio</th>\n",
       "      <th>Nationality</th>\n",
       "      <th>BeginDate</th>\n",
       "      <th>EndDate</th>\n",
       "      <th>Gender</th>\n",
       "      <th>Date</th>\n",
       "      <th>...</th>\n",
       "      <th>CreditLine</th>\n",
       "      <th>AccessionNumber</th>\n",
       "      <th>Classification</th>\n",
       "      <th>Department</th>\n",
       "      <th>DateAcquired</th>\n",
       "      <th>Cataloged</th>\n",
       "      <th>ObjectID</th>\n",
       "      <th>URL</th>\n",
       "      <th>Height (cm)</th>\n",
       "      <th>Width (cm)</th>\n",
       "    </tr>\n",
       "  </thead>\n",
       "  <tbody>\n",
       "    <tr>\n",
       "      <th>0</th>\n",
       "      <td>0</td>\n",
       "      <td>Ferdinandsbrücke Project, Vienna, Austria, Ele...</td>\n",
       "      <td>Otto Wagner</td>\n",
       "      <td>6210</td>\n",
       "      <td>Austrian, 1841–1918</td>\n",
       "      <td>Austrian</td>\n",
       "      <td>1841</td>\n",
       "      <td>1918</td>\n",
       "      <td>Male</td>\n",
       "      <td>1896</td>\n",
       "      <td>...</td>\n",
       "      <td>Fractional and promised gift of Jo Carole and ...</td>\n",
       "      <td>885.1996</td>\n",
       "      <td>Architecture</td>\n",
       "      <td>Architecture &amp; Design</td>\n",
       "      <td>1996-04-09</td>\n",
       "      <td>Y</td>\n",
       "      <td>2</td>\n",
       "      <td>http://www.moma.org/collection/works/2</td>\n",
       "      <td>48.6000</td>\n",
       "      <td>168.9000</td>\n",
       "    </tr>\n",
       "    <tr>\n",
       "      <th>1</th>\n",
       "      <td>1</td>\n",
       "      <td>City of Music, National Superior Conservatory ...</td>\n",
       "      <td>Christian de Portzamparc</td>\n",
       "      <td>7470</td>\n",
       "      <td>French, born 1944</td>\n",
       "      <td>French</td>\n",
       "      <td>1944</td>\n",
       "      <td>0</td>\n",
       "      <td>Male</td>\n",
       "      <td>1987</td>\n",
       "      <td>...</td>\n",
       "      <td>Gift of the architect in honor of Lily Auchinc...</td>\n",
       "      <td>1.1995</td>\n",
       "      <td>Architecture</td>\n",
       "      <td>Architecture &amp; Design</td>\n",
       "      <td>1995-01-17</td>\n",
       "      <td>Y</td>\n",
       "      <td>3</td>\n",
       "      <td>http://www.moma.org/collection/works/3</td>\n",
       "      <td>40.6401</td>\n",
       "      <td>29.8451</td>\n",
       "    </tr>\n",
       "    <tr>\n",
       "      <th>2</th>\n",
       "      <td>2</td>\n",
       "      <td>Villa near Vienna Project, Outside Vienna, Aus...</td>\n",
       "      <td>Emil Hoppe</td>\n",
       "      <td>7605</td>\n",
       "      <td>Austrian, 1876–1957</td>\n",
       "      <td>Austrian</td>\n",
       "      <td>1876</td>\n",
       "      <td>1957</td>\n",
       "      <td>Male</td>\n",
       "      <td>1903</td>\n",
       "      <td>...</td>\n",
       "      <td>Gift of Jo Carole and Ronald S. Lauder</td>\n",
       "      <td>1.1997</td>\n",
       "      <td>Architecture</td>\n",
       "      <td>Architecture &amp; Design</td>\n",
       "      <td>1997-01-15</td>\n",
       "      <td>Y</td>\n",
       "      <td>4</td>\n",
       "      <td>http://www.moma.org/collection/works/4</td>\n",
       "      <td>34.3000</td>\n",
       "      <td>31.8000</td>\n",
       "    </tr>\n",
       "    <tr>\n",
       "      <th>3</th>\n",
       "      <td>3</td>\n",
       "      <td>The Manhattan Transcripts Project, New York, N...</td>\n",
       "      <td>Bernard Tschumi</td>\n",
       "      <td>7056</td>\n",
       "      <td>French and Swiss, born Switzerland 1944</td>\n",
       "      <td></td>\n",
       "      <td>1944</td>\n",
       "      <td>0</td>\n",
       "      <td>Male</td>\n",
       "      <td>1980</td>\n",
       "      <td>...</td>\n",
       "      <td>Purchase and partial gift of the architect in ...</td>\n",
       "      <td>2.1995</td>\n",
       "      <td>Architecture</td>\n",
       "      <td>Architecture &amp; Design</td>\n",
       "      <td>1995-01-17</td>\n",
       "      <td>Y</td>\n",
       "      <td>5</td>\n",
       "      <td>http://www.moma.org/collection/works/5</td>\n",
       "      <td>50.8000</td>\n",
       "      <td>50.8000</td>\n",
       "    </tr>\n",
       "    <tr>\n",
       "      <th>4</th>\n",
       "      <td>4</td>\n",
       "      <td>Villa, project, outside Vienna, Austria, Exter...</td>\n",
       "      <td>Emil Hoppe</td>\n",
       "      <td>7605</td>\n",
       "      <td>Austrian, 1876–1957</td>\n",
       "      <td>Austrian</td>\n",
       "      <td>1876</td>\n",
       "      <td>1957</td>\n",
       "      <td>Male</td>\n",
       "      <td>1903</td>\n",
       "      <td>...</td>\n",
       "      <td>Gift of Jo Carole and Ronald S. Lauder</td>\n",
       "      <td>2.1997</td>\n",
       "      <td>Architecture</td>\n",
       "      <td>Architecture &amp; Design</td>\n",
       "      <td>1997-01-15</td>\n",
       "      <td>Y</td>\n",
       "      <td>6</td>\n",
       "      <td>http://www.moma.org/collection/works/6</td>\n",
       "      <td>38.4000</td>\n",
       "      <td>19.1000</td>\n",
       "    </tr>\n",
       "  </tbody>\n",
       "</table>\n",
       "<p>5 rows × 22 columns</p>\n",
       "</div>"
      ],
      "text/plain": [
       "  Id                                              Title  \\\n",
       "0  0  Ferdinandsbrücke Project, Vienna, Austria, Ele...   \n",
       "1  1  City of Music, National Superior Conservatory ...   \n",
       "2  2  Villa near Vienna Project, Outside Vienna, Aus...   \n",
       "3  3  The Manhattan Transcripts Project, New York, N...   \n",
       "4  4  Villa, project, outside Vienna, Austria, Exter...   \n",
       "\n",
       "                     Artist ConstituentID  \\\n",
       "0               Otto Wagner          6210   \n",
       "1  Christian de Portzamparc          7470   \n",
       "2                Emil Hoppe          7605   \n",
       "3           Bernard Tschumi          7056   \n",
       "4                Emil Hoppe          7605   \n",
       "\n",
       "                                 ArtistBio Nationality BeginDate EndDate  \\\n",
       "0                      Austrian, 1841–1918    Austrian      1841    1918   \n",
       "1                        French, born 1944      French      1944       0   \n",
       "2                      Austrian, 1876–1957    Austrian      1876    1957   \n",
       "3  French and Swiss, born Switzerland 1944                  1944       0   \n",
       "4                      Austrian, 1876–1957    Austrian      1876    1957   \n",
       "\n",
       "  Gender  Date  ...                                         CreditLine  \\\n",
       "0   Male  1896  ...  Fractional and promised gift of Jo Carole and ...   \n",
       "1   Male  1987  ...  Gift of the architect in honor of Lily Auchinc...   \n",
       "2   Male  1903  ...             Gift of Jo Carole and Ronald S. Lauder   \n",
       "3   Male  1980  ...  Purchase and partial gift of the architect in ...   \n",
       "4   Male  1903  ...             Gift of Jo Carole and Ronald S. Lauder   \n",
       "\n",
       "  AccessionNumber Classification             Department DateAcquired  \\\n",
       "0        885.1996   Architecture  Architecture & Design   1996-04-09   \n",
       "1          1.1995   Architecture  Architecture & Design   1995-01-17   \n",
       "2          1.1997   Architecture  Architecture & Design   1997-01-15   \n",
       "3          2.1995   Architecture  Architecture & Design   1995-01-17   \n",
       "4          2.1997   Architecture  Architecture & Design   1997-01-15   \n",
       "\n",
       "  Cataloged ObjectID                                     URL Height (cm)  \\\n",
       "0         Y        2  http://www.moma.org/collection/works/2     48.6000   \n",
       "1         Y        3  http://www.moma.org/collection/works/3     40.6401   \n",
       "2         Y        4  http://www.moma.org/collection/works/4     34.3000   \n",
       "3         Y        5  http://www.moma.org/collection/works/5     50.8000   \n",
       "4         Y        6  http://www.moma.org/collection/works/6     38.4000   \n",
       "\n",
       "  Width (cm)  \n",
       "0   168.9000  \n",
       "1    29.8451  \n",
       "2    31.8000  \n",
       "3    50.8000  \n",
       "4    19.1000  \n",
       "\n",
       "[5 rows x 22 columns]"
      ]
     },
     "execution_count": 32,
     "metadata": {},
     "output_type": "execute_result"
    }
   ],
   "source": [
    "for col in parenthesis_col:\n",
    "    df5[col]=df5[col].str.replace('\\(','').str.replace('\\)','')\n",
    "    \n",
    "df5.head()"
   ]
  },
  {
   "cell_type": "code",
   "execution_count": 56,
   "metadata": {},
   "outputs": [
    {
     "data": {
      "text/html": [
       "<div>\n",
       "<style scoped>\n",
       "    .dataframe tbody tr th:only-of-type {\n",
       "        vertical-align: middle;\n",
       "    }\n",
       "\n",
       "    .dataframe tbody tr th {\n",
       "        vertical-align: top;\n",
       "    }\n",
       "\n",
       "    .dataframe thead th {\n",
       "        text-align: right;\n",
       "    }\n",
       "</style>\n",
       "<table border=\"1\" class=\"dataframe\">\n",
       "  <thead>\n",
       "    <tr style=\"text-align: right;\">\n",
       "      <th></th>\n",
       "      <th>Id</th>\n",
       "      <th>Title</th>\n",
       "      <th>Artist</th>\n",
       "      <th>ConstituentID</th>\n",
       "      <th>ArtistBio</th>\n",
       "      <th>Nationality</th>\n",
       "      <th>BeginDate</th>\n",
       "      <th>EndDate</th>\n",
       "      <th>Gender</th>\n",
       "      <th>Date</th>\n",
       "      <th>...</th>\n",
       "      <th>CreditLine</th>\n",
       "      <th>AccessionNumber</th>\n",
       "      <th>Classification</th>\n",
       "      <th>Department</th>\n",
       "      <th>DateAcquired</th>\n",
       "      <th>Cataloged</th>\n",
       "      <th>ObjectID</th>\n",
       "      <th>URL</th>\n",
       "      <th>Height (cm)</th>\n",
       "      <th>Width (cm)</th>\n",
       "    </tr>\n",
       "  </thead>\n",
       "  <tbody>\n",
       "    <tr>\n",
       "      <th>0</th>\n",
       "      <td>0</td>\n",
       "      <td>Ferdinandsbrücke Project, Vienna, Austria, Ele...</td>\n",
       "      <td>Otto Wagner</td>\n",
       "      <td>6210</td>\n",
       "      <td>(Austrian, 1841–1918)</td>\n",
       "      <td>(Austrian)</td>\n",
       "      <td>(1841)</td>\n",
       "      <td>(1918)</td>\n",
       "      <td>(Male)</td>\n",
       "      <td>1896</td>\n",
       "      <td>...</td>\n",
       "      <td>Fractional and promised gift of Jo Carole and ...</td>\n",
       "      <td>885.1996</td>\n",
       "      <td>Architecture</td>\n",
       "      <td>Architecture &amp; Design</td>\n",
       "      <td>1996-04-09</td>\n",
       "      <td>Y</td>\n",
       "      <td>2</td>\n",
       "      <td>http://www.moma.org/collection/works/2</td>\n",
       "      <td>48.6000</td>\n",
       "      <td>168.9000</td>\n",
       "    </tr>\n",
       "    <tr>\n",
       "      <th>1</th>\n",
       "      <td>1</td>\n",
       "      <td>City of Music, National Superior Conservatory ...</td>\n",
       "      <td>Christian de Portzamparc</td>\n",
       "      <td>7470</td>\n",
       "      <td>(French, born 1944)</td>\n",
       "      <td>(French)</td>\n",
       "      <td>(1944)</td>\n",
       "      <td>(0)</td>\n",
       "      <td>(Male)</td>\n",
       "      <td>1987</td>\n",
       "      <td>...</td>\n",
       "      <td>Gift of the architect in honor of Lily Auchinc...</td>\n",
       "      <td>1.1995</td>\n",
       "      <td>Architecture</td>\n",
       "      <td>Architecture &amp; Design</td>\n",
       "      <td>1995-01-17</td>\n",
       "      <td>Y</td>\n",
       "      <td>3</td>\n",
       "      <td>http://www.moma.org/collection/works/3</td>\n",
       "      <td>40.6401</td>\n",
       "      <td>29.8451</td>\n",
       "    </tr>\n",
       "    <tr>\n",
       "      <th>2</th>\n",
       "      <td>2</td>\n",
       "      <td>Villa near Vienna Project, Outside Vienna, Aus...</td>\n",
       "      <td>Emil Hoppe</td>\n",
       "      <td>7605</td>\n",
       "      <td>(Austrian, 1876–1957)</td>\n",
       "      <td>(Austrian)</td>\n",
       "      <td>(1876)</td>\n",
       "      <td>(1957)</td>\n",
       "      <td>(Male)</td>\n",
       "      <td>1903</td>\n",
       "      <td>...</td>\n",
       "      <td>Gift of Jo Carole and Ronald S. Lauder</td>\n",
       "      <td>1.1997</td>\n",
       "      <td>Architecture</td>\n",
       "      <td>Architecture &amp; Design</td>\n",
       "      <td>1997-01-15</td>\n",
       "      <td>Y</td>\n",
       "      <td>4</td>\n",
       "      <td>http://www.moma.org/collection/works/4</td>\n",
       "      <td>34.3000</td>\n",
       "      <td>31.8000</td>\n",
       "    </tr>\n",
       "    <tr>\n",
       "      <th>3</th>\n",
       "      <td>3</td>\n",
       "      <td>The Manhattan Transcripts Project, New York, N...</td>\n",
       "      <td>Bernard Tschumi</td>\n",
       "      <td>7056</td>\n",
       "      <td>(French and Swiss, born Switzerland 1944)</td>\n",
       "      <td>()</td>\n",
       "      <td>(1944)</td>\n",
       "      <td>(0)</td>\n",
       "      <td>(Male)</td>\n",
       "      <td>1980</td>\n",
       "      <td>...</td>\n",
       "      <td>Purchase and partial gift of the architect in ...</td>\n",
       "      <td>2.1995</td>\n",
       "      <td>Architecture</td>\n",
       "      <td>Architecture &amp; Design</td>\n",
       "      <td>1995-01-17</td>\n",
       "      <td>Y</td>\n",
       "      <td>5</td>\n",
       "      <td>http://www.moma.org/collection/works/5</td>\n",
       "      <td>50.8000</td>\n",
       "      <td>50.8000</td>\n",
       "    </tr>\n",
       "    <tr>\n",
       "      <th>4</th>\n",
       "      <td>4</td>\n",
       "      <td>Villa, project, outside Vienna, Austria, Exter...</td>\n",
       "      <td>Emil Hoppe</td>\n",
       "      <td>7605</td>\n",
       "      <td>(Austrian, 1876–1957)</td>\n",
       "      <td>(Austrian)</td>\n",
       "      <td>(1876)</td>\n",
       "      <td>(1957)</td>\n",
       "      <td>(Male)</td>\n",
       "      <td>1903</td>\n",
       "      <td>...</td>\n",
       "      <td>Gift of Jo Carole and Ronald S. Lauder</td>\n",
       "      <td>2.1997</td>\n",
       "      <td>Architecture</td>\n",
       "      <td>Architecture &amp; Design</td>\n",
       "      <td>1997-01-15</td>\n",
       "      <td>Y</td>\n",
       "      <td>6</td>\n",
       "      <td>http://www.moma.org/collection/works/6</td>\n",
       "      <td>38.4000</td>\n",
       "      <td>19.1000</td>\n",
       "    </tr>\n",
       "  </tbody>\n",
       "</table>\n",
       "<p>5 rows × 22 columns</p>\n",
       "</div>"
      ],
      "text/plain": [
       "  Id                                              Title  \\\n",
       "0  0  Ferdinandsbrücke Project, Vienna, Austria, Ele...   \n",
       "1  1  City of Music, National Superior Conservatory ...   \n",
       "2  2  Villa near Vienna Project, Outside Vienna, Aus...   \n",
       "3  3  The Manhattan Transcripts Project, New York, N...   \n",
       "4  4  Villa, project, outside Vienna, Austria, Exter...   \n",
       "\n",
       "                     Artist ConstituentID  \\\n",
       "0               Otto Wagner          6210   \n",
       "1  Christian de Portzamparc          7470   \n",
       "2                Emil Hoppe          7605   \n",
       "3           Bernard Tschumi          7056   \n",
       "4                Emil Hoppe          7605   \n",
       "\n",
       "                                   ArtistBio Nationality BeginDate EndDate  \\\n",
       "0                      (Austrian, 1841–1918)  (Austrian)    (1841)  (1918)   \n",
       "1                        (French, born 1944)    (French)    (1944)     (0)   \n",
       "2                      (Austrian, 1876–1957)  (Austrian)    (1876)  (1957)   \n",
       "3  (French and Swiss, born Switzerland 1944)          ()    (1944)     (0)   \n",
       "4                      (Austrian, 1876–1957)  (Austrian)    (1876)  (1957)   \n",
       "\n",
       "   Gender  Date  ...                                         CreditLine  \\\n",
       "0  (Male)  1896  ...  Fractional and promised gift of Jo Carole and ...   \n",
       "1  (Male)  1987  ...  Gift of the architect in honor of Lily Auchinc...   \n",
       "2  (Male)  1903  ...             Gift of Jo Carole and Ronald S. Lauder   \n",
       "3  (Male)  1980  ...  Purchase and partial gift of the architect in ...   \n",
       "4  (Male)  1903  ...             Gift of Jo Carole and Ronald S. Lauder   \n",
       "\n",
       "  AccessionNumber Classification             Department DateAcquired  \\\n",
       "0        885.1996   Architecture  Architecture & Design   1996-04-09   \n",
       "1          1.1995   Architecture  Architecture & Design   1995-01-17   \n",
       "2          1.1997   Architecture  Architecture & Design   1997-01-15   \n",
       "3          2.1995   Architecture  Architecture & Design   1995-01-17   \n",
       "4          2.1997   Architecture  Architecture & Design   1997-01-15   \n",
       "\n",
       "  Cataloged ObjectID                                     URL Height (cm)  \\\n",
       "0         Y        2  http://www.moma.org/collection/works/2     48.6000   \n",
       "1         Y        3  http://www.moma.org/collection/works/3     40.6401   \n",
       "2         Y        4  http://www.moma.org/collection/works/4     34.3000   \n",
       "3         Y        5  http://www.moma.org/collection/works/5     50.8000   \n",
       "4         Y        6  http://www.moma.org/collection/works/6     38.4000   \n",
       "\n",
       "  Width (cm)  \n",
       "0   168.9000  \n",
       "1    29.8451  \n",
       "2    31.8000  \n",
       "3    50.8000  \n",
       "4    19.1000  \n",
       "\n",
       "[5 rows x 22 columns]"
      ]
     },
     "execution_count": 56,
     "metadata": {},
     "output_type": "execute_result"
    }
   ],
   "source": [
    "df51=df4.copy()\n",
    "\n",
    "for col in parenthesis_col:\n",
    "    df51.loc[:,col].str.replace('\\(','').str.replace('\\)','')\n",
    "    \n",
    "df51.head()"
   ]
  },
  {
   "cell_type": "code",
   "execution_count": 54,
   "metadata": {},
   "outputs": [
    {
     "ename": "IndexingError",
     "evalue": "Too many indexers",
     "output_type": "error",
     "traceback": [
      "\u001b[0;31m---------------------------------------------------------------------------\u001b[0m",
      "\u001b[0;31mIndexingError\u001b[0m                             Traceback (most recent call last)",
      "\u001b[0;32m<ipython-input-54-6325ad59aae8>\u001b[0m in \u001b[0;36m<module>\u001b[0;34m\u001b[0m\n\u001b[1;32m      1\u001b[0m \u001b[0mdf55\u001b[0m\u001b[0;34m=\u001b[0m\u001b[0mdf4\u001b[0m\u001b[0;34m.\u001b[0m\u001b[0mcopy\u001b[0m\u001b[0;34m(\u001b[0m\u001b[0;34m)\u001b[0m\u001b[0;34m\u001b[0m\u001b[0;34m\u001b[0m\u001b[0m\n\u001b[0;32m----> 2\u001b[0;31m \u001b[0mdf55\u001b[0m\u001b[0;34m.\u001b[0m\u001b[0mloc\u001b[0m\u001b[0;34m[\u001b[0m\u001b[0;34m'ArtistBio'\u001b[0m\u001b[0;34m,\u001b[0m\u001b[0;34m'Nationality'\u001b[0m\u001b[0;34m,\u001b[0m\u001b[0;34m'BeginDate'\u001b[0m\u001b[0;34m,\u001b[0m\u001b[0;34m'EndDate'\u001b[0m\u001b[0;34m,\u001b[0m\u001b[0;34m'Gender'\u001b[0m\u001b[0;34m,\u001b[0m\u001b[0;34m'Date'\u001b[0m\u001b[0;34m]\u001b[0m\u001b[0;34m.\u001b[0m\u001b[0mapply\u001b[0m\u001b[0;34m(\u001b[0m\u001b[0;32mlambda\u001b[0m \u001b[0mx\u001b[0m\u001b[0;34m:\u001b[0m \u001b[0mx\u001b[0m\u001b[0;34m.\u001b[0m\u001b[0mstr\u001b[0m\u001b[0;34m.\u001b[0m\u001b[0mreplace\u001b[0m\u001b[0;34m(\u001b[0m\u001b[0;34m'\\('\u001b[0m\u001b[0;34m,\u001b[0m\u001b[0;34m''\u001b[0m\u001b[0;34m)\u001b[0m\u001b[0;34m.\u001b[0m\u001b[0mstr\u001b[0m\u001b[0;34m.\u001b[0m\u001b[0mreplace\u001b[0m\u001b[0;34m(\u001b[0m\u001b[0;34m'\\)'\u001b[0m\u001b[0;34m,\u001b[0m\u001b[0;34m''\u001b[0m\u001b[0;34m)\u001b[0m\u001b[0;34m)\u001b[0m\u001b[0;34m\u001b[0m\u001b[0;34m\u001b[0m\u001b[0m\n\u001b[0m",
      "\u001b[0;32m/opt/anaconda3/lib/python3.7/site-packages/pandas/core/indexing.py\u001b[0m in \u001b[0;36m__getitem__\u001b[0;34m(self, key)\u001b[0m\n\u001b[1;32m   1760\u001b[0m                 \u001b[0;32mexcept\u001b[0m \u001b[0;34m(\u001b[0m\u001b[0mKeyError\u001b[0m\u001b[0;34m,\u001b[0m \u001b[0mIndexError\u001b[0m\u001b[0;34m,\u001b[0m \u001b[0mAttributeError\u001b[0m\u001b[0;34m)\u001b[0m\u001b[0;34m:\u001b[0m\u001b[0;34m\u001b[0m\u001b[0;34m\u001b[0m\u001b[0m\n\u001b[1;32m   1761\u001b[0m                     \u001b[0;32mpass\u001b[0m\u001b[0;34m\u001b[0m\u001b[0;34m\u001b[0m\u001b[0m\n\u001b[0;32m-> 1762\u001b[0;31m             \u001b[0;32mreturn\u001b[0m \u001b[0mself\u001b[0m\u001b[0;34m.\u001b[0m\u001b[0m_getitem_tuple\u001b[0m\u001b[0;34m(\u001b[0m\u001b[0mkey\u001b[0m\u001b[0;34m)\u001b[0m\u001b[0;34m\u001b[0m\u001b[0;34m\u001b[0m\u001b[0m\n\u001b[0m\u001b[1;32m   1763\u001b[0m         \u001b[0;32melse\u001b[0m\u001b[0;34m:\u001b[0m\u001b[0;34m\u001b[0m\u001b[0;34m\u001b[0m\u001b[0m\n\u001b[1;32m   1764\u001b[0m             \u001b[0;31m# we by definition only have the 0th axis\u001b[0m\u001b[0;34m\u001b[0m\u001b[0;34m\u001b[0m\u001b[0;34m\u001b[0m\u001b[0m\n",
      "\u001b[0;32m/opt/anaconda3/lib/python3.7/site-packages/pandas/core/indexing.py\u001b[0m in \u001b[0;36m_getitem_tuple\u001b[0;34m(self, tup)\u001b[0m\n\u001b[1;32m   1275\u001b[0m \u001b[0;34m\u001b[0m\u001b[0m\n\u001b[1;32m   1276\u001b[0m         \u001b[0;31m# no multi-index, so validate all of the indexers\u001b[0m\u001b[0;34m\u001b[0m\u001b[0;34m\u001b[0m\u001b[0;34m\u001b[0m\u001b[0m\n\u001b[0;32m-> 1277\u001b[0;31m         \u001b[0mself\u001b[0m\u001b[0;34m.\u001b[0m\u001b[0m_has_valid_tuple\u001b[0m\u001b[0;34m(\u001b[0m\u001b[0mtup\u001b[0m\u001b[0;34m)\u001b[0m\u001b[0;34m\u001b[0m\u001b[0;34m\u001b[0m\u001b[0m\n\u001b[0m\u001b[1;32m   1278\u001b[0m \u001b[0;34m\u001b[0m\u001b[0m\n\u001b[1;32m   1279\u001b[0m         \u001b[0;31m# ugly hack for GH #836\u001b[0m\u001b[0;34m\u001b[0m\u001b[0;34m\u001b[0m\u001b[0;34m\u001b[0m\u001b[0m\n",
      "\u001b[0;32m/opt/anaconda3/lib/python3.7/site-packages/pandas/core/indexing.py\u001b[0m in \u001b[0;36m_has_valid_tuple\u001b[0;34m(self, key)\u001b[0m\n\u001b[1;32m    699\u001b[0m         \u001b[0;32mfor\u001b[0m \u001b[0mi\u001b[0m\u001b[0;34m,\u001b[0m \u001b[0mk\u001b[0m \u001b[0;32min\u001b[0m \u001b[0menumerate\u001b[0m\u001b[0;34m(\u001b[0m\u001b[0mkey\u001b[0m\u001b[0;34m)\u001b[0m\u001b[0;34m:\u001b[0m\u001b[0;34m\u001b[0m\u001b[0;34m\u001b[0m\u001b[0m\n\u001b[1;32m    700\u001b[0m             \u001b[0;32mif\u001b[0m \u001b[0mi\u001b[0m \u001b[0;34m>=\u001b[0m \u001b[0mself\u001b[0m\u001b[0;34m.\u001b[0m\u001b[0mndim\u001b[0m\u001b[0;34m:\u001b[0m\u001b[0;34m\u001b[0m\u001b[0;34m\u001b[0m\u001b[0m\n\u001b[0;32m--> 701\u001b[0;31m                 \u001b[0;32mraise\u001b[0m \u001b[0mIndexingError\u001b[0m\u001b[0;34m(\u001b[0m\u001b[0;34m\"Too many indexers\"\u001b[0m\u001b[0;34m)\u001b[0m\u001b[0;34m\u001b[0m\u001b[0;34m\u001b[0m\u001b[0m\n\u001b[0m\u001b[1;32m    702\u001b[0m             \u001b[0;32mtry\u001b[0m\u001b[0;34m:\u001b[0m\u001b[0;34m\u001b[0m\u001b[0;34m\u001b[0m\u001b[0m\n\u001b[1;32m    703\u001b[0m                 \u001b[0mself\u001b[0m\u001b[0;34m.\u001b[0m\u001b[0m_validate_key\u001b[0m\u001b[0;34m(\u001b[0m\u001b[0mk\u001b[0m\u001b[0;34m,\u001b[0m \u001b[0mi\u001b[0m\u001b[0;34m)\u001b[0m\u001b[0;34m\u001b[0m\u001b[0;34m\u001b[0m\u001b[0m\n",
      "\u001b[0;31mIndexingError\u001b[0m: Too many indexers"
     ]
    }
   ],
   "source": [
    "df55=df4.copy()\n",
    "df55.loc['ArtistBio','Nationality','BeginDate','EndDate','Gender','Date'].apply(lambda x: x.str.replace('\\(','').str.replace('\\)',''))"
   ]
  },
  {
   "cell_type": "code",
   "execution_count": 11,
   "metadata": {},
   "outputs": [
    {
     "data": {
      "text/plain": [
       "0"
      ]
     },
     "execution_count": 11,
     "metadata": {},
     "output_type": "execute_result"
    }
   ],
   "source": [
    "df5.iloc[:,:].duplicated().sum()"
   ]
  },
  {
   "cell_type": "markdown",
   "metadata": {},
   "source": [
    "## Clean Date values"
   ]
  },
  {
   "cell_type": "code",
   "execution_count": 12,
   "metadata": {},
   "outputs": [
    {
     "name": "stdout",
     "output_type": "stream",
     "text": [
      "['1896' '1987' '1903' ... '1961-1962' 'early 1980s' '1979–1983']\n",
      "total unique values in date:  8815\n"
     ]
    }
   ],
   "source": [
    "df6=df5.copy()\n",
    "print(df6.Date.unique())\n",
    "start_values=df6.Date.nunique()\n",
    "print(\"total unique values in date: \",start_values)"
   ]
  },
  {
   "cell_type": "code",
   "execution_count": 13,
   "metadata": {},
   "outputs": [],
   "source": [
    "df6.Date=df6.Date.astype(str)"
   ]
  },
  {
   "cell_type": "code",
   "execution_count": null,
   "metadata": {},
   "outputs": [],
   "source": [
    "def test(date):\n",
    "    count_not_str=0\n",
    "    if type(date) != str:\n",
    "        count_not_str+=1\n",
    "    return count_not_str\n",
    "\n",
    "# Check if convert is working\n",
    "count_type=df6.Date.apply(test).value_counts()\n",
    "count_type"
   ]
  },
  {
   "cell_type": "code",
   "execution_count": 14,
   "metadata": {},
   "outputs": [
    {
     "name": "stdout",
     "output_type": "stream",
     "text": [
      "800\n"
     ]
    }
   ],
   "source": [
    "def clean_date(date):\n",
    "    if re.search('[0-9]{4}$', date):\n",
    "        return date[-4:]\n",
    "    if re.search('^[0-9]{4}', date):\n",
    "        return date[:4]\n",
    "    elif re.search('[0-9]{4}', date):\n",
    "        pos = re.search('[0-9]{4}', date).start()\n",
    "        return date[pos:pos+4]\n",
    "    elif re.search('[0-9]{3}\\?', date):\n",
    "        new_date = re.sub('\\?','0',date)\n",
    "        pos = re.search('[0-9]{4}', new_date).start()\n",
    "        return new_date[pos:pos+4]\n",
    "    elif re.search('^[a-zA-Z \\,\\?\\.]+$', date):\n",
    "        return np.nan\n",
    "    elif re.search('century',date):\n",
    "        return date[0]+str('00')\n",
    "    else:\n",
    "        return date\n",
    "    \n",
    "    \n",
    "# Testing function\n",
    "date='8th-9th century C.E.'\n",
    "new_date=clean_date(date)\n",
    "print(new_date)"
   ]
  },
  {
   "cell_type": "code",
   "execution_count": 15,
   "metadata": {},
   "outputs": [
    {
     "name": "stdout",
     "output_type": "stream",
     "text": [
      "total unique values in date before clean:  8816\n",
      "1966    2538\n",
      "1967    2472\n",
      "1969    2405\n",
      "1965    2386\n",
      "1968    2229\n",
      "        ... \n",
      "1825       1\n",
      "1808       1\n",
      "1829       1\n",
      "1635       1\n",
      "1704       1\n",
      "Name: Date, Length: 204, dtype: int64\n",
      "['1896' '1987' '1903' '1980' '1976' '1968' '1900' '1978' '1905' '1906'\n",
      " '1979' '1918' '1970' '1975' '1984' '1986' '1974' nan '1917' '1923' '1930'\n",
      " '1936' '1935' '1937' '1938' '1977' '1958' '1985' '1989' '1949' '1964'\n",
      " '1991' '1941' '1965' '1981' '1983' '1988' '1992' '1915' '1953' '1910'\n",
      " '1982' '1945' '1924' '1990' '1995' '1931' '1929' '1959' '1920' '1939'\n",
      " '1993' '1996' '1952' '1921' '1957' '1972' '1956' '1962' '1925' '1960'\n",
      " '1969' '1963' '1994' '1961' '1928' '1927' '1933' '1967' '1934' '1940'\n",
      " '1946' '1955' '1997' '1922' '1942' '1954' '1973' '1926' '1932' '1947'\n",
      " '1943' '1944' '1966' '1971' '1999' '1913' '1951' '2002' '2001' '2000'\n",
      " '1886' '1950' '1901' '1948' '1912' '1908' '1902' '1904' '1916' '1998'\n",
      " '1914' '1875' '1898' '1909' '1907' '800' '700' '1600' '1897' '1895'\n",
      " '1880' '1885' '1768' '1878' '1808' '1865' '1899' '1876' '1873' '1860'\n",
      " '1866' '1830' '1840' '1919' '1884' '1883' '1894' '1893' '1879' '1892'\n",
      " '1890' '1877' '1911' '1891' '1889' '1818' '1852' '1837' '1828' '1854'\n",
      " '1799' '1863' '1817' '1874' '1887' '2003' '1881' '1882' '1888' '1868'\n",
      " '1858' '1853' '1850' '1856' '1846' '1855' '1862' '1843' '1872' '1861'\n",
      " '1864' '1869' '1870' '1857' '1826' '1829' '1859' '1844' '1867' '1851'\n",
      " '1845' '1839' '1871' '1838' '1805' '1811' '1809' '1849' '1841' '1842'\n",
      " 'November 10' '1832' '1847' '1810' '2004' '1825' '2005' '2006' '2010'\n",
      " '2007' '2011' 'newspaper published March 30' '2009' '2008' '1848' '2014'\n",
      " '2012' '1704' '1635' '2013' '2016' '2015' '2017' '2018']\n",
      "total unique values in date after clean:  204\n"
     ]
    }
   ],
   "source": [
    "df8=df6.copy()\n",
    "before_clean2=df8.Date.nunique()\n",
    "print(\"total unique values in date before clean: \", before_clean2)\n",
    "\n",
    "df8.Date=df8.Date.apply(clean_date)\n",
    "\n",
    "print(df8.Date.value_counts())\n",
    "print(df8.Date.unique())\n",
    "clean2_values=df8.Date.nunique()\n",
    "print(\"total unique values in date after clean: \", clean2_values)"
   ]
  },
  {
   "cell_type": "code",
   "execution_count": 16,
   "metadata": {},
   "outputs": [],
   "source": [
    "## Manually cleaning inconsistent data\n",
    "df9=df8.copy()\n",
    "cel=df9[(df9.Date=='November 10')&(df9.Artist=='George Platt Lynes')]\n",
    "df9.loc[cel.index,'Date']='1937'"
   ]
  },
  {
   "cell_type": "code",
   "execution_count": 17,
   "metadata": {},
   "outputs": [
    {
     "data": {
      "text/html": [
       "<div>\n",
       "<style scoped>\n",
       "    .dataframe tbody tr th:only-of-type {\n",
       "        vertical-align: middle;\n",
       "    }\n",
       "\n",
       "    .dataframe tbody tr th {\n",
       "        vertical-align: top;\n",
       "    }\n",
       "\n",
       "    .dataframe thead th {\n",
       "        text-align: right;\n",
       "    }\n",
       "</style>\n",
       "<table border=\"1\" class=\"dataframe\">\n",
       "  <thead>\n",
       "    <tr style=\"text-align: right;\">\n",
       "      <th></th>\n",
       "      <th>Id</th>\n",
       "      <th>Title</th>\n",
       "      <th>Artist</th>\n",
       "      <th>ConstituentID</th>\n",
       "      <th>ArtistBio</th>\n",
       "      <th>Nationality</th>\n",
       "      <th>BeginDate</th>\n",
       "      <th>EndDate</th>\n",
       "      <th>Gender</th>\n",
       "      <th>Date</th>\n",
       "      <th>...</th>\n",
       "      <th>CreditLine</th>\n",
       "      <th>AccessionNumber</th>\n",
       "      <th>Classification</th>\n",
       "      <th>Department</th>\n",
       "      <th>DateAcquired</th>\n",
       "      <th>Cataloged</th>\n",
       "      <th>ObjectID</th>\n",
       "      <th>URL</th>\n",
       "      <th>Height (cm)</th>\n",
       "      <th>Width (cm)</th>\n",
       "    </tr>\n",
       "  </thead>\n",
       "  <tbody>\n",
       "    <tr>\n",
       "      <th>105456</th>\n",
       "      <td>88287</td>\n",
       "      <td>Untitled from the Museum in Progress project P...</td>\n",
       "      <td>Jan Knap</td>\n",
       "      <td>30960</td>\n",
       "      <td>Czech, born 1949</td>\n",
       "      <td>Czech</td>\n",
       "      <td>1949</td>\n",
       "      <td>0</td>\n",
       "      <td>Male</td>\n",
       "      <td>NaN</td>\n",
       "      <td>...</td>\n",
       "      <td>Linda Barth Goldstein Fund</td>\n",
       "      <td>514.2006.24</td>\n",
       "      <td>Print</td>\n",
       "      <td>Prints &amp; Illustrated Books</td>\n",
       "      <td>2006-06-01</td>\n",
       "      <td>N</td>\n",
       "      <td>103623</td>\n",
       "      <td>NaN</td>\n",
       "      <td>47.0</td>\n",
       "      <td>31.5</td>\n",
       "    </tr>\n",
       "  </tbody>\n",
       "</table>\n",
       "<p>1 rows × 22 columns</p>\n",
       "</div>"
      ],
      "text/plain": [
       "           Id                                              Title    Artist  \\\n",
       "105456  88287  Untitled from the Museum in Progress project P...  Jan Knap   \n",
       "\n",
       "       ConstituentID         ArtistBio Nationality BeginDate EndDate Gender  \\\n",
       "105456         30960  Czech, born 1949       Czech      1949       0   Male   \n",
       "\n",
       "       Date  ...                  CreditLine AccessionNumber Classification  \\\n",
       "105456  NaN  ...  Linda Barth Goldstein Fund     514.2006.24          Print   \n",
       "\n",
       "                        Department DateAcquired Cataloged ObjectID  URL  \\\n",
       "105456  Prints & Illustrated Books   2006-06-01         N   103623  NaN   \n",
       "\n",
       "       Height (cm) Width (cm)  \n",
       "105456        47.0       31.5  \n",
       "\n",
       "[1 rows x 22 columns]"
      ]
     },
     "execution_count": 17,
     "metadata": {},
     "output_type": "execute_result"
    }
   ],
   "source": [
    "## Manually cleaning inconsistent data\n",
    "cel2=df9[(df9.Date=='newspaper published March 30')]\n",
    "df9.loc[cel2.index,'Date']=np.nan\n",
    "df9.loc[(df9.Artist=='Jan Knap')]"
   ]
  },
  {
   "cell_type": "code",
   "execution_count": 18,
   "metadata": {},
   "outputs": [
    {
     "name": "stdout",
     "output_type": "stream",
     "text": [
      "['1896' '1987' '1903' '1980' '1976' '1968' '1900' '1978' '1905' '1906'\n",
      " '1979' '1918' '1970' '1975' '1984' '1986' '1974' nan '1917' '1923' '1930'\n",
      " '1936' '1935' '1937' '1938' '1977' '1958' '1985' '1989' '1949' '1964'\n",
      " '1991' '1941' '1965' '1981' '1983' '1988' '1992' '1915' '1953' '1910'\n",
      " '1982' '1945' '1924' '1990' '1995' '1931' '1929' '1959' '1920' '1939'\n",
      " '1993' '1996' '1952' '1921' '1957' '1972' '1956' '1962' '1925' '1960'\n",
      " '1969' '1963' '1994' '1961' '1928' '1927' '1933' '1967' '1934' '1940'\n",
      " '1946' '1955' '1997' '1922' '1942' '1954' '1973' '1926' '1932' '1947'\n",
      " '1943' '1944' '1966' '1971' '1999' '1913' '1951' '2002' '2001' '2000'\n",
      " '1886' '1950' '1901' '1948' '1912' '1908' '1902' '1904' '1916' '1998'\n",
      " '1914' '1875' '1898' '1909' '1907' '800' '700' '1600' '1897' '1895'\n",
      " '1880' '1885' '1768' '1878' '1808' '1865' '1899' '1876' '1873' '1860'\n",
      " '1866' '1830' '1840' '1919' '1884' '1883' '1894' '1893' '1879' '1892'\n",
      " '1890' '1877' '1911' '1891' '1889' '1818' '1852' '1837' '1828' '1854'\n",
      " '1799' '1863' '1817' '1874' '1887' '2003' '1881' '1882' '1888' '1868'\n",
      " '1858' '1853' '1850' '1856' '1846' '1855' '1862' '1843' '1872' '1861'\n",
      " '1864' '1869' '1870' '1857' '1826' '1829' '1859' '1844' '1867' '1851'\n",
      " '1845' '1839' '1871' '1838' '1805' '1811' '1809' '1849' '1841' '1842'\n",
      " '1832' '1847' '1810' '2004' '1825' '2005' '2006' '2010' '2007' '2011'\n",
      " '2009' '2008' '1848' '2014' '2012' '1704' '1635' '2013' '2016' '2015'\n",
      " '2017' '2018']\n",
      "total unique values in date after clean 3:  202\n"
     ]
    }
   ],
   "source": [
    "print(df9.Date.unique())\n",
    "clean3_values=df9.Date.nunique()\n",
    "print(\"total unique values in date after clean 3: \", clean3_values)"
   ]
  },
  {
   "cell_type": "markdown",
   "metadata": {},
   "source": [
    "## Guess Missing Date Values"
   ]
  },
  {
   "cell_type": "code",
   "execution_count": 19,
   "metadata": {},
   "outputs": [
    {
     "data": {
      "text/plain": [
       "3514"
      ]
     },
     "execution_count": 19,
     "metadata": {},
     "output_type": "execute_result"
    }
   ],
   "source": [
    "df9.Date.isna().sum()"
   ]
  },
  {
   "cell_type": "code",
   "execution_count": 20,
   "metadata": {},
   "outputs": [],
   "source": [
    "# Drop row with unknown artist and unknown date\n",
    "drop_row=df9[(df9.ConstituentID.isna())&(df9.Date.isna())].index\n",
    "df9_bis=df9.copy()\n",
    "df9_bis.drop(drop_row,axis=0,inplace=True)"
   ]
  },
  {
   "cell_type": "code",
   "execution_count": 21,
   "metadata": {},
   "outputs": [
    {
     "data": {
      "text/html": [
       "<div>\n",
       "<style scoped>\n",
       "    .dataframe tbody tr th:only-of-type {\n",
       "        vertical-align: middle;\n",
       "    }\n",
       "\n",
       "    .dataframe tbody tr th {\n",
       "        vertical-align: top;\n",
       "    }\n",
       "\n",
       "    .dataframe thead th {\n",
       "        text-align: right;\n",
       "    }\n",
       "</style>\n",
       "<table border=\"1\" class=\"dataframe\">\n",
       "  <thead>\n",
       "    <tr style=\"text-align: right;\">\n",
       "      <th></th>\n",
       "      <th>ConstituentID</th>\n",
       "      <th>Date</th>\n",
       "    </tr>\n",
       "  </thead>\n",
       "  <tbody>\n",
       "    <tr>\n",
       "      <th>0</th>\n",
       "      <td>6210</td>\n",
       "      <td>1896</td>\n",
       "    </tr>\n",
       "    <tr>\n",
       "      <th>1</th>\n",
       "      <td>7470</td>\n",
       "      <td>1987</td>\n",
       "    </tr>\n",
       "    <tr>\n",
       "      <th>2</th>\n",
       "      <td>7605</td>\n",
       "      <td>1903</td>\n",
       "    </tr>\n",
       "    <tr>\n",
       "      <th>3</th>\n",
       "      <td>7056</td>\n",
       "      <td>1980</td>\n",
       "    </tr>\n",
       "    <tr>\n",
       "      <th>4</th>\n",
       "      <td>7605</td>\n",
       "      <td>1903</td>\n",
       "    </tr>\n",
       "    <tr>\n",
       "      <th>...</th>\n",
       "      <td>...</td>\n",
       "      <td>...</td>\n",
       "    </tr>\n",
       "    <tr>\n",
       "      <th>152479</th>\n",
       "      <td>7644</td>\n",
       "      <td>1983</td>\n",
       "    </tr>\n",
       "    <tr>\n",
       "      <th>152480</th>\n",
       "      <td>NaN</td>\n",
       "      <td>2009</td>\n",
       "    </tr>\n",
       "    <tr>\n",
       "      <th>152484</th>\n",
       "      <td>3402</td>\n",
       "      <td>1976</td>\n",
       "    </tr>\n",
       "    <tr>\n",
       "      <th>152485</th>\n",
       "      <td>3402</td>\n",
       "      <td>1973</td>\n",
       "    </tr>\n",
       "    <tr>\n",
       "      <th>152486</th>\n",
       "      <td>3402</td>\n",
       "      <td>1974</td>\n",
       "    </tr>\n",
       "  </tbody>\n",
       "</table>\n",
       "<p>134832 rows × 2 columns</p>\n",
       "</div>"
      ],
      "text/plain": [
       "       ConstituentID  Date\n",
       "0               6210  1896\n",
       "1               7470  1987\n",
       "2               7605  1903\n",
       "3               7056  1980\n",
       "4               7605  1903\n",
       "...              ...   ...\n",
       "152479          7644  1983\n",
       "152480           NaN  2009\n",
       "152484          3402  1976\n",
       "152485          3402  1973\n",
       "152486          3402  1974\n",
       "\n",
       "[134832 rows x 2 columns]"
      ]
     },
     "execution_count": 21,
     "metadata": {},
     "output_type": "execute_result"
    }
   ],
   "source": [
    "df9_bis.Date.isna().sum()\n",
    "df9_bis[['ConstituentID','Date']]"
   ]
  },
  {
   "cell_type": "code",
   "execution_count": 22,
   "metadata": {},
   "outputs": [
    {
     "data": {
      "text/plain": [
       "184"
      ]
     },
     "execution_count": 22,
     "metadata": {},
     "output_type": "execute_result"
    }
   ],
   "source": [
    "# Find list of artist with only nan dates\n",
    "total_per_artist = df9_bis.ConstituentID.value_counts()\n",
    "total_per_artist\n",
    "\n",
    "number_nan_per_artist = df9_bis[df9_bis.Date.isna()].ConstituentID.value_counts()\n",
    "\n",
    "list_artist_nan_date=[]\n",
    "\n",
    "for a in number_nan_per_artist.iteritems():\n",
    "    artist = a[0]\n",
    "    number_of_nan = a[1]\n",
    "    if total_per_artist.loc[artist] == number_of_nan:\n",
    "        list_artist_nan_date.append(artist)\n",
    "\n",
    "len(list_artist_nan_date)"
   ]
  },
  {
   "cell_type": "code",
   "execution_count": 23,
   "metadata": {},
   "outputs": [],
   "source": [
    "# Keep rows excluding list of artist with only nan dates\n",
    "df9_bis=df9_bis[-df9_bis.ConstituentID.isin(list_artist_nan_date)]"
   ]
  },
  {
   "cell_type": "code",
   "execution_count": 24,
   "metadata": {},
   "outputs": [],
   "source": [
    "df10=df9_bis.copy()\n",
    "\n",
    "# create a copy of dataframe and delete nan date to calculate the mean date of every artist\n",
    "null_date=df10.loc[df10.Date.isna()].index\n",
    "df10.drop(null_date,axis=0,inplace=True)"
   ]
  },
  {
   "cell_type": "code",
   "execution_count": 25,
   "metadata": {},
   "outputs": [],
   "source": [
    "# convert date as int to work with mean\n",
    "df10.Date=df10.Date.astype(int)"
   ]
  },
  {
   "cell_type": "code",
   "execution_count": null,
   "metadata": {},
   "outputs": [],
   "source": [
    "# Calculate mean for every artist\n",
    "mean_date=round(df10.groupby('ConstituentID')['Date'].agg('mean'))\n",
    "mean_date=mean_date.astype(int)\n",
    "mean_date[mean_date.index=='27'][0]\n",
    "mean_date"
   ]
  },
  {
   "cell_type": "code",
   "execution_count": null,
   "metadata": {},
   "outputs": [],
   "source": [
    "mean_date.loc['9971']"
   ]
  },
  {
   "cell_type": "code",
   "execution_count": null,
   "metadata": {},
   "outputs": [],
   "source": [
    "# Function to return the mean of the constituentID\n",
    "def getmean(x):\n",
    "    # x string\n",
    "    if x in mean_date.index:\n",
    "        return mean_date.loc[x]\n",
    "    return\n",
    "\n",
    "# Testing the function\n",
    "test_tab=df9[['ConstituentID','Date']]\n",
    "test_date=test_tab[test_tab.ConstituentID=='27']\n",
    "\n",
    "test_date.Date=test_date.Date.fillna(test_date['ConstituentID'].apply(getmean))\n",
    "test_date"
   ]
  },
  {
   "cell_type": "code",
   "execution_count": null,
   "metadata": {},
   "outputs": [],
   "source": [
    "# Testing 2nd times with several artist\n",
    "test_date_bis=test_tab[test_tab.ConstituentID.isin(['27','4930'])]\n",
    "\n",
    "test_date_bis.Date=test_date_bis.Date.fillna(test_date_bis['ConstituentID'].apply(getmean))\n",
    "test_date_bis"
   ]
  },
  {
   "cell_type": "code",
   "execution_count": null,
   "metadata": {},
   "outputs": [],
   "source": [
    "df11=df9_bis.copy()\n",
    "\n",
    "df11.Date=df11.Date.fillna(df11['ConstituentID'].apply(getmean))"
   ]
  },
  {
   "cell_type": "markdown",
   "metadata": {},
   "source": [
    "## Create Bins"
   ]
  },
  {
   "cell_type": "code",
   "execution_count": null,
   "metadata": {},
   "outputs": [],
   "source": [
    "df11.Date=df11.Date.astype(int)\n",
    "df11[df11.Date==700]"
   ]
  },
  {
   "cell_type": "code",
   "execution_count": null,
   "metadata": {},
   "outputs": [],
   "source": [
    "labels=[\"690-1850\"]\n",
    "cutoffs=[690]\n",
    "         \n",
    "for i in range(1850,2020,10):\n",
    "    cutoffs.append(i)\n",
    "    labels.append(str(i+1)+\"-\"+str(i+10))\n",
    "\n",
    "cutoffs.append(2020)\n",
    "labels"
   ]
  },
  {
   "cell_type": "code",
   "execution_count": null,
   "metadata": {},
   "outputs": [],
   "source": [
    "df11['DateRange']=pd.cut(df11.Date, cutoffs,labels=labels)"
   ]
  },
  {
   "cell_type": "markdown",
   "metadata": {},
   "source": [
    "## Create histogram"
   ]
  },
  {
   "cell_type": "code",
   "execution_count": null,
   "metadata": {},
   "outputs": [],
   "source": [
    "## 1st way to get the dataframe\n",
    "bar=df11.groupby('DateRange')['Id'].agg('count').reset_index()"
   ]
  },
  {
   "cell_type": "raw",
   "metadata": {},
   "source": [
    "df99 = pd.DataFrame(df11.DateRange.value_counts()).reset_index()\n",
    "df99.columns=[\"DateRange\",\"Count\"]\n",
    "df99"
   ]
  },
  {
   "cell_type": "code",
   "execution_count": null,
   "metadata": {},
   "outputs": [],
   "source": [
    "import matplotlib.pyplot as plt\n",
    "import seaborn as sns"
   ]
  },
  {
   "cell_type": "code",
   "execution_count": null,
   "metadata": {},
   "outputs": [],
   "source": [
    "sns.set()\n",
    "fig,ax=plt.subplots(figsize=(20,8))\n",
    "barchart=sns.barplot(data=df99,  x='DateRange',y='Count')"
   ]
  },
  {
   "cell_type": "code",
   "execution_count": null,
   "metadata": {},
   "outputs": [],
   "source": []
  }
 ],
 "metadata": {
  "kernelspec": {
   "display_name": "Python 3",
   "language": "python",
   "name": "python3"
  },
  "language_info": {
   "codemirror_mode": {
    "name": "ipython",
    "version": 3
   },
   "file_extension": ".py",
   "mimetype": "text/x-python",
   "name": "python",
   "nbconvert_exporter": "python",
   "pygments_lexer": "ipython3",
   "version": "3.7.4"
  }
 },
 "nbformat": 4,
 "nbformat_minor": 2
}
