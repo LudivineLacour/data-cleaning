{
 "cells": [
  {
   "cell_type": "markdown",
   "metadata": {},
   "source": [
    "# MoMa's collection data cleaning\n",
    "\n",
    "## Problem solving\n",
    "I'm working for the MoMa and they'd like to know in which department they need to enrich based on the current collection. \n",
    "\n",
    "**What is the Top-3 less valuable classification?**"
   ]
  },
  {
   "cell_type": "code",
   "execution_count": 1,
   "metadata": {},
   "outputs": [],
   "source": [
    "import numpy as np\n",
    "import pandas as pd\n",
    "import re"
   ]
  },
  {
   "cell_type": "code",
   "execution_count": 2,
   "metadata": {},
   "outputs": [
    {
     "name": "stderr",
     "output_type": "stream",
     "text": [
      "/opt/anaconda3/lib/python3.7/site-packages/IPython/core/interactiveshell.py:3058: DtypeWarning: Columns (0,18) have mixed types.Specify dtype option on import or set low_memory=False.\n",
      "  interactivity=interactivity, compiler=compiler, result=result)\n"
     ]
    },
    {
     "data": {
      "text/html": [
       "<div>\n",
       "<style scoped>\n",
       "    .dataframe tbody tr th:only-of-type {\n",
       "        vertical-align: middle;\n",
       "    }\n",
       "\n",
       "    .dataframe tbody tr th {\n",
       "        vertical-align: top;\n",
       "    }\n",
       "\n",
       "    .dataframe thead th {\n",
       "        text-align: right;\n",
       "    }\n",
       "</style>\n",
       "<table border=\"1\" class=\"dataframe\">\n",
       "  <thead>\n",
       "    <tr style=\"text-align: right;\">\n",
       "      <th></th>\n",
       "      <th>Unnamed: 0</th>\n",
       "      <th>Title</th>\n",
       "      <th>Artist</th>\n",
       "      <th>ConstituentID</th>\n",
       "      <th>ArtistBio</th>\n",
       "      <th>Nationality</th>\n",
       "      <th>BeginDate</th>\n",
       "      <th>EndDate</th>\n",
       "      <th>Gender</th>\n",
       "      <th>Date</th>\n",
       "      <th>...</th>\n",
       "      <th>ThumbnailURL</th>\n",
       "      <th>Circumference (cm)</th>\n",
       "      <th>Depth (cm)</th>\n",
       "      <th>Diameter (cm)</th>\n",
       "      <th>Height (cm)</th>\n",
       "      <th>Length (cm)</th>\n",
       "      <th>Weight (kg)</th>\n",
       "      <th>Width (cm)</th>\n",
       "      <th>Seat Height (cm)</th>\n",
       "      <th>Duration (sec.)</th>\n",
       "    </tr>\n",
       "  </thead>\n",
       "  <tbody>\n",
       "    <tr>\n",
       "      <th>0</th>\n",
       "      <td>0</td>\n",
       "      <td>Ferdinandsbrücke Project, Vienna, Austria, Ele...</td>\n",
       "      <td>Otto Wagner</td>\n",
       "      <td>6210</td>\n",
       "      <td>(Austrian, 1841–1918)</td>\n",
       "      <td>(Austrian)</td>\n",
       "      <td>(1841)</td>\n",
       "      <td>(1918)</td>\n",
       "      <td>(Male)</td>\n",
       "      <td>1896</td>\n",
       "      <td>...</td>\n",
       "      <td>http://www.moma.org/media/W1siZiIsIjU5NDA1Il0s...</td>\n",
       "      <td>NaN</td>\n",
       "      <td>NaN</td>\n",
       "      <td>NaN</td>\n",
       "      <td>48.6000</td>\n",
       "      <td>NaN</td>\n",
       "      <td>NaN</td>\n",
       "      <td>168.9000</td>\n",
       "      <td>NaN</td>\n",
       "      <td>NaN</td>\n",
       "    </tr>\n",
       "    <tr>\n",
       "      <th>1</th>\n",
       "      <td>1</td>\n",
       "      <td>City of Music, National Superior Conservatory ...</td>\n",
       "      <td>Christian de Portzamparc</td>\n",
       "      <td>7470</td>\n",
       "      <td>(French, born 1944)</td>\n",
       "      <td>(French)</td>\n",
       "      <td>(1944)</td>\n",
       "      <td>(0)</td>\n",
       "      <td>(Male)</td>\n",
       "      <td>1987</td>\n",
       "      <td>...</td>\n",
       "      <td>http://www.moma.org/media/W1siZiIsIjk3Il0sWyJw...</td>\n",
       "      <td>NaN</td>\n",
       "      <td>NaN</td>\n",
       "      <td>NaN</td>\n",
       "      <td>40.6401</td>\n",
       "      <td>NaN</td>\n",
       "      <td>NaN</td>\n",
       "      <td>29.8451</td>\n",
       "      <td>NaN</td>\n",
       "      <td>NaN</td>\n",
       "    </tr>\n",
       "    <tr>\n",
       "      <th>2</th>\n",
       "      <td>2</td>\n",
       "      <td>Villa near Vienna Project, Outside Vienna, Aus...</td>\n",
       "      <td>Emil Hoppe</td>\n",
       "      <td>7605</td>\n",
       "      <td>(Austrian, 1876–1957)</td>\n",
       "      <td>(Austrian)</td>\n",
       "      <td>(1876)</td>\n",
       "      <td>(1957)</td>\n",
       "      <td>(Male)</td>\n",
       "      <td>1903</td>\n",
       "      <td>...</td>\n",
       "      <td>http://www.moma.org/media/W1siZiIsIjk4Il0sWyJw...</td>\n",
       "      <td>NaN</td>\n",
       "      <td>NaN</td>\n",
       "      <td>NaN</td>\n",
       "      <td>34.3000</td>\n",
       "      <td>NaN</td>\n",
       "      <td>NaN</td>\n",
       "      <td>31.8000</td>\n",
       "      <td>NaN</td>\n",
       "      <td>NaN</td>\n",
       "    </tr>\n",
       "    <tr>\n",
       "      <th>3</th>\n",
       "      <td>3</td>\n",
       "      <td>The Manhattan Transcripts Project, New York, N...</td>\n",
       "      <td>Bernard Tschumi</td>\n",
       "      <td>7056</td>\n",
       "      <td>(French and Swiss, born Switzerland 1944)</td>\n",
       "      <td>()</td>\n",
       "      <td>(1944)</td>\n",
       "      <td>(0)</td>\n",
       "      <td>(Male)</td>\n",
       "      <td>1980</td>\n",
       "      <td>...</td>\n",
       "      <td>http://www.moma.org/media/W1siZiIsIjEyNCJdLFsi...</td>\n",
       "      <td>NaN</td>\n",
       "      <td>NaN</td>\n",
       "      <td>NaN</td>\n",
       "      <td>50.8000</td>\n",
       "      <td>NaN</td>\n",
       "      <td>NaN</td>\n",
       "      <td>50.8000</td>\n",
       "      <td>NaN</td>\n",
       "      <td>NaN</td>\n",
       "    </tr>\n",
       "    <tr>\n",
       "      <th>4</th>\n",
       "      <td>4</td>\n",
       "      <td>Villa, project, outside Vienna, Austria, Exter...</td>\n",
       "      <td>Emil Hoppe</td>\n",
       "      <td>7605</td>\n",
       "      <td>(Austrian, 1876–1957)</td>\n",
       "      <td>(Austrian)</td>\n",
       "      <td>(1876)</td>\n",
       "      <td>(1957)</td>\n",
       "      <td>(Male)</td>\n",
       "      <td>1903</td>\n",
       "      <td>...</td>\n",
       "      <td>http://www.moma.org/media/W1siZiIsIjEyNiJdLFsi...</td>\n",
       "      <td>NaN</td>\n",
       "      <td>NaN</td>\n",
       "      <td>NaN</td>\n",
       "      <td>38.4000</td>\n",
       "      <td>NaN</td>\n",
       "      <td>NaN</td>\n",
       "      <td>19.1000</td>\n",
       "      <td>NaN</td>\n",
       "      <td>NaN</td>\n",
       "    </tr>\n",
       "  </tbody>\n",
       "</table>\n",
       "<p>5 rows × 30 columns</p>\n",
       "</div>"
      ],
      "text/plain": [
       "  Unnamed: 0                                              Title  \\\n",
       "0          0  Ferdinandsbrücke Project, Vienna, Austria, Ele...   \n",
       "1          1  City of Music, National Superior Conservatory ...   \n",
       "2          2  Villa near Vienna Project, Outside Vienna, Aus...   \n",
       "3          3  The Manhattan Transcripts Project, New York, N...   \n",
       "4          4  Villa, project, outside Vienna, Austria, Exter...   \n",
       "\n",
       "                     Artist ConstituentID  \\\n",
       "0               Otto Wagner          6210   \n",
       "1  Christian de Portzamparc          7470   \n",
       "2                Emil Hoppe          7605   \n",
       "3           Bernard Tschumi          7056   \n",
       "4                Emil Hoppe          7605   \n",
       "\n",
       "                                   ArtistBio Nationality BeginDate EndDate  \\\n",
       "0                      (Austrian, 1841–1918)  (Austrian)    (1841)  (1918)   \n",
       "1                        (French, born 1944)    (French)    (1944)     (0)   \n",
       "2                      (Austrian, 1876–1957)  (Austrian)    (1876)  (1957)   \n",
       "3  (French and Swiss, born Switzerland 1944)          ()    (1944)     (0)   \n",
       "4                      (Austrian, 1876–1957)  (Austrian)    (1876)  (1957)   \n",
       "\n",
       "   Gender  Date  ...                                       ThumbnailURL  \\\n",
       "0  (Male)  1896  ...  http://www.moma.org/media/W1siZiIsIjU5NDA1Il0s...   \n",
       "1  (Male)  1987  ...  http://www.moma.org/media/W1siZiIsIjk3Il0sWyJw...   \n",
       "2  (Male)  1903  ...  http://www.moma.org/media/W1siZiIsIjk4Il0sWyJw...   \n",
       "3  (Male)  1980  ...  http://www.moma.org/media/W1siZiIsIjEyNCJdLFsi...   \n",
       "4  (Male)  1903  ...  http://www.moma.org/media/W1siZiIsIjEyNiJdLFsi...   \n",
       "\n",
       "  Circumference (cm) Depth (cm) Diameter (cm) Height (cm) Length (cm)  \\\n",
       "0                NaN        NaN           NaN     48.6000         NaN   \n",
       "1                NaN        NaN           NaN     40.6401         NaN   \n",
       "2                NaN        NaN           NaN     34.3000         NaN   \n",
       "3                NaN        NaN           NaN     50.8000         NaN   \n",
       "4                NaN        NaN           NaN     38.4000         NaN   \n",
       "\n",
       "  Weight (kg) Width (cm) Seat Height (cm) Duration (sec.)  \n",
       "0         NaN   168.9000              NaN             NaN  \n",
       "1         NaN    29.8451              NaN             NaN  \n",
       "2         NaN    31.8000              NaN             NaN  \n",
       "3         NaN    50.8000              NaN             NaN  \n",
       "4         NaN    19.1000              NaN             NaN  \n",
       "\n",
       "[5 rows x 30 columns]"
      ]
     },
     "execution_count": 2,
     "metadata": {},
     "output_type": "execute_result"
    }
   ],
   "source": [
    "df=pd.read_csv('data/museum_modern_art.csv',sep=',')\n",
    "df.head()"
   ]
  },
  {
   "cell_type": "code",
   "execution_count": 3,
   "metadata": {},
   "outputs": [
    {
     "data": {
      "text/plain": [
       "Unnamed: 0             object\n",
       "Title                  object\n",
       "Artist                 object\n",
       "ConstituentID          object\n",
       "ArtistBio              object\n",
       "Nationality            object\n",
       "BeginDate              object\n",
       "EndDate                object\n",
       "Gender                 object\n",
       "Date                   object\n",
       "Medium                 object\n",
       "Dimensions             object\n",
       "CreditLine             object\n",
       "AccessionNumber        object\n",
       "Classification         object\n",
       "Department             object\n",
       "DateAcquired           object\n",
       "Cataloged              object\n",
       "ObjectID               object\n",
       "URL                    object\n",
       "ThumbnailURL           object\n",
       "Circumference (cm)    float64\n",
       "Depth (cm)            float64\n",
       "Diameter (cm)         float64\n",
       "Height (cm)           float64\n",
       "Length (cm)           float64\n",
       "Weight (kg)           float64\n",
       "Width (cm)            float64\n",
       "Seat Height (cm)      float64\n",
       "Duration (sec.)       float64\n",
       "dtype: object"
      ]
     },
     "execution_count": 3,
     "metadata": {},
     "output_type": "execute_result"
    }
   ],
   "source": [
    "df.dtypes"
   ]
  },
  {
   "cell_type": "markdown",
   "metadata": {},
   "source": [
    "## Renaming columns"
   ]
  },
  {
   "cell_type": "code",
   "execution_count": 4,
   "metadata": {},
   "outputs": [],
   "source": [
    "df1=df.rename(columns={'Unnamed: 0':'Id'})"
   ]
  },
  {
   "cell_type": "code",
   "execution_count": 5,
   "metadata": {},
   "outputs": [
    {
     "data": {
      "text/plain": [
       "Index(['Id', 'Title', 'Artist', 'ConstituentID', 'ArtistBio', 'Nationality',\n",
       "       'BeginDate', 'EndDate', 'Gender', 'Date', 'Medium', 'Dimensions',\n",
       "       'CreditLine', 'AccessionNumber', 'Classification', 'Department',\n",
       "       'DateAcquired', 'Cataloged', 'ObjectID', 'URL', 'ThumbnailURL',\n",
       "       'Circumference (cm)', 'Depth (cm)', 'Diameter (cm)', 'Height (cm)',\n",
       "       'Length (cm)', 'Weight (kg)', 'Width (cm)', 'Seat Height (cm)',\n",
       "       'Duration (sec.)'],\n",
       "      dtype='object')"
      ]
     },
     "execution_count": 5,
     "metadata": {},
     "output_type": "execute_result"
    }
   ],
   "source": [
    "df1.columns"
   ]
  },
  {
   "cell_type": "markdown",
   "metadata": {},
   "source": [
    "## Drop empty and useless tables"
   ]
  },
  {
   "cell_type": "code",
   "execution_count": 6,
   "metadata": {},
   "outputs": [
    {
     "data": {
      "text/plain": [
       "Title                   0.03\n",
       "Artist                 12.20\n",
       "ConstituentID          12.20\n",
       "ArtistBio              14.81\n",
       "Nationality            12.20\n",
       "BeginDate              12.20\n",
       "EndDate                12.20\n",
       "Gender                 12.20\n",
       "Date                   12.84\n",
       "Medium                 18.64\n",
       "Dimensions             18.40\n",
       "CreditLine             13.14\n",
       "AccessionNumber        11.26\n",
       "Classification         11.26\n",
       "Department             11.26\n",
       "DateAcquired           15.62\n",
       "Cataloged              11.26\n",
       "ObjectID               11.26\n",
       "URL                    49.17\n",
       "ThumbnailURL           56.12\n",
       "Circumference (cm)     99.99\n",
       "Depth (cm)             91.45\n",
       "Diameter (cm)          99.07\n",
       "Height (cm)            23.75\n",
       "Length (cm)            99.52\n",
       "Weight (kg)            99.81\n",
       "Width (cm)             24.34\n",
       "Seat Height (cm)      100.00\n",
       "Duration (sec.)        97.93\n",
       "dtype: float64"
      ]
     },
     "execution_count": 6,
     "metadata": {},
     "output_type": "execute_result"
    }
   ],
   "source": [
    "null_col=df1.isna().sum()\n",
    "null_col_percent=round(null_col[null_col>0]/df1.shape[0]*100,2)\n",
    "null_col_percent"
   ]
  },
  {
   "cell_type": "code",
   "execution_count": 7,
   "metadata": {},
   "outputs": [],
   "source": [
    "drop_cols=null_col_percent[null_col_percent>50].index\n",
    "df2=df1.drop(drop_cols,axis=1)"
   ]
  },
  {
   "cell_type": "code",
   "execution_count": 8,
   "metadata": {},
   "outputs": [
    {
     "data": {
      "text/plain": [
       "(152487, 22)"
      ]
     },
     "execution_count": 8,
     "metadata": {},
     "output_type": "execute_result"
    }
   ],
   "source": [
    "df2.shape"
   ]
  },
  {
   "cell_type": "markdown",
   "metadata": {},
   "source": [
    "## Remove Duplicates"
   ]
  },
  {
   "cell_type": "code",
   "execution_count": 9,
   "metadata": {},
   "outputs": [
    {
     "data": {
      "text/plain": [
       "17168"
      ]
     },
     "execution_count": 9,
     "metadata": {},
     "output_type": "execute_result"
    }
   ],
   "source": [
    "df3=df2.copy()\n",
    "df3.iloc[:,:].duplicated().sum()"
   ]
  },
  {
   "cell_type": "code",
   "execution_count": 10,
   "metadata": {},
   "outputs": [
    {
     "name": "stdout",
     "output_type": "stream",
     "text": [
      "(152487, 22)\n",
      "(135319, 22)\n"
     ]
    }
   ],
   "source": [
    "print(df3.iloc[:,:].shape)\n",
    "df4=df3.iloc[:,:].drop_duplicates()\n",
    "print(df4.iloc[:,:].shape)"
   ]
  },
  {
   "cell_type": "markdown",
   "metadata": {},
   "source": [
    "# Put off parenthesis on text in relevant columns"
   ]
  },
  {
   "cell_type": "code",
   "execution_count": 11,
   "metadata": {},
   "outputs": [],
   "source": [
    "parenthesis_col=['ArtistBio','Nationality','BeginDate','EndDate','Gender','Date']\n",
    "parenthesis_col\n",
    "\n",
    "df5=df4.copy()"
   ]
  },
  {
   "cell_type": "code",
   "execution_count": 12,
   "metadata": {},
   "outputs": [
    {
     "data": {
      "text/html": [
       "<div>\n",
       "<style scoped>\n",
       "    .dataframe tbody tr th:only-of-type {\n",
       "        vertical-align: middle;\n",
       "    }\n",
       "\n",
       "    .dataframe tbody tr th {\n",
       "        vertical-align: top;\n",
       "    }\n",
       "\n",
       "    .dataframe thead th {\n",
       "        text-align: right;\n",
       "    }\n",
       "</style>\n",
       "<table border=\"1\" class=\"dataframe\">\n",
       "  <thead>\n",
       "    <tr style=\"text-align: right;\">\n",
       "      <th></th>\n",
       "      <th>Id</th>\n",
       "      <th>Title</th>\n",
       "      <th>Artist</th>\n",
       "      <th>ConstituentID</th>\n",
       "      <th>ArtistBio</th>\n",
       "      <th>Nationality</th>\n",
       "      <th>BeginDate</th>\n",
       "      <th>EndDate</th>\n",
       "      <th>Gender</th>\n",
       "      <th>Date</th>\n",
       "      <th>...</th>\n",
       "      <th>CreditLine</th>\n",
       "      <th>AccessionNumber</th>\n",
       "      <th>Classification</th>\n",
       "      <th>Department</th>\n",
       "      <th>DateAcquired</th>\n",
       "      <th>Cataloged</th>\n",
       "      <th>ObjectID</th>\n",
       "      <th>URL</th>\n",
       "      <th>Height (cm)</th>\n",
       "      <th>Width (cm)</th>\n",
       "    </tr>\n",
       "  </thead>\n",
       "  <tbody>\n",
       "    <tr>\n",
       "      <th>0</th>\n",
       "      <td>0</td>\n",
       "      <td>Ferdinandsbrücke Project, Vienna, Austria, Ele...</td>\n",
       "      <td>Otto Wagner</td>\n",
       "      <td>6210</td>\n",
       "      <td>Austrian, 1841–1918</td>\n",
       "      <td>Austrian</td>\n",
       "      <td>1841</td>\n",
       "      <td>1918</td>\n",
       "      <td>Male</td>\n",
       "      <td>1896</td>\n",
       "      <td>...</td>\n",
       "      <td>Fractional and promised gift of Jo Carole and ...</td>\n",
       "      <td>885.1996</td>\n",
       "      <td>Architecture</td>\n",
       "      <td>Architecture &amp; Design</td>\n",
       "      <td>1996-04-09</td>\n",
       "      <td>Y</td>\n",
       "      <td>2</td>\n",
       "      <td>http://www.moma.org/collection/works/2</td>\n",
       "      <td>48.6000</td>\n",
       "      <td>168.9000</td>\n",
       "    </tr>\n",
       "    <tr>\n",
       "      <th>1</th>\n",
       "      <td>1</td>\n",
       "      <td>City of Music, National Superior Conservatory ...</td>\n",
       "      <td>Christian de Portzamparc</td>\n",
       "      <td>7470</td>\n",
       "      <td>French, born 1944</td>\n",
       "      <td>French</td>\n",
       "      <td>1944</td>\n",
       "      <td>0</td>\n",
       "      <td>Male</td>\n",
       "      <td>1987</td>\n",
       "      <td>...</td>\n",
       "      <td>Gift of the architect in honor of Lily Auchinc...</td>\n",
       "      <td>1.1995</td>\n",
       "      <td>Architecture</td>\n",
       "      <td>Architecture &amp; Design</td>\n",
       "      <td>1995-01-17</td>\n",
       "      <td>Y</td>\n",
       "      <td>3</td>\n",
       "      <td>http://www.moma.org/collection/works/3</td>\n",
       "      <td>40.6401</td>\n",
       "      <td>29.8451</td>\n",
       "    </tr>\n",
       "    <tr>\n",
       "      <th>2</th>\n",
       "      <td>2</td>\n",
       "      <td>Villa near Vienna Project, Outside Vienna, Aus...</td>\n",
       "      <td>Emil Hoppe</td>\n",
       "      <td>7605</td>\n",
       "      <td>Austrian, 1876–1957</td>\n",
       "      <td>Austrian</td>\n",
       "      <td>1876</td>\n",
       "      <td>1957</td>\n",
       "      <td>Male</td>\n",
       "      <td>1903</td>\n",
       "      <td>...</td>\n",
       "      <td>Gift of Jo Carole and Ronald S. Lauder</td>\n",
       "      <td>1.1997</td>\n",
       "      <td>Architecture</td>\n",
       "      <td>Architecture &amp; Design</td>\n",
       "      <td>1997-01-15</td>\n",
       "      <td>Y</td>\n",
       "      <td>4</td>\n",
       "      <td>http://www.moma.org/collection/works/4</td>\n",
       "      <td>34.3000</td>\n",
       "      <td>31.8000</td>\n",
       "    </tr>\n",
       "    <tr>\n",
       "      <th>3</th>\n",
       "      <td>3</td>\n",
       "      <td>The Manhattan Transcripts Project, New York, N...</td>\n",
       "      <td>Bernard Tschumi</td>\n",
       "      <td>7056</td>\n",
       "      <td>French and Swiss, born Switzerland 1944</td>\n",
       "      <td></td>\n",
       "      <td>1944</td>\n",
       "      <td>0</td>\n",
       "      <td>Male</td>\n",
       "      <td>1980</td>\n",
       "      <td>...</td>\n",
       "      <td>Purchase and partial gift of the architect in ...</td>\n",
       "      <td>2.1995</td>\n",
       "      <td>Architecture</td>\n",
       "      <td>Architecture &amp; Design</td>\n",
       "      <td>1995-01-17</td>\n",
       "      <td>Y</td>\n",
       "      <td>5</td>\n",
       "      <td>http://www.moma.org/collection/works/5</td>\n",
       "      <td>50.8000</td>\n",
       "      <td>50.8000</td>\n",
       "    </tr>\n",
       "    <tr>\n",
       "      <th>4</th>\n",
       "      <td>4</td>\n",
       "      <td>Villa, project, outside Vienna, Austria, Exter...</td>\n",
       "      <td>Emil Hoppe</td>\n",
       "      <td>7605</td>\n",
       "      <td>Austrian, 1876–1957</td>\n",
       "      <td>Austrian</td>\n",
       "      <td>1876</td>\n",
       "      <td>1957</td>\n",
       "      <td>Male</td>\n",
       "      <td>1903</td>\n",
       "      <td>...</td>\n",
       "      <td>Gift of Jo Carole and Ronald S. Lauder</td>\n",
       "      <td>2.1997</td>\n",
       "      <td>Architecture</td>\n",
       "      <td>Architecture &amp; Design</td>\n",
       "      <td>1997-01-15</td>\n",
       "      <td>Y</td>\n",
       "      <td>6</td>\n",
       "      <td>http://www.moma.org/collection/works/6</td>\n",
       "      <td>38.4000</td>\n",
       "      <td>19.1000</td>\n",
       "    </tr>\n",
       "  </tbody>\n",
       "</table>\n",
       "<p>5 rows × 22 columns</p>\n",
       "</div>"
      ],
      "text/plain": [
       "  Id                                              Title  \\\n",
       "0  0  Ferdinandsbrücke Project, Vienna, Austria, Ele...   \n",
       "1  1  City of Music, National Superior Conservatory ...   \n",
       "2  2  Villa near Vienna Project, Outside Vienna, Aus...   \n",
       "3  3  The Manhattan Transcripts Project, New York, N...   \n",
       "4  4  Villa, project, outside Vienna, Austria, Exter...   \n",
       "\n",
       "                     Artist ConstituentID  \\\n",
       "0               Otto Wagner          6210   \n",
       "1  Christian de Portzamparc          7470   \n",
       "2                Emil Hoppe          7605   \n",
       "3           Bernard Tschumi          7056   \n",
       "4                Emil Hoppe          7605   \n",
       "\n",
       "                                 ArtistBio Nationality BeginDate EndDate  \\\n",
       "0                      Austrian, 1841–1918    Austrian      1841    1918   \n",
       "1                        French, born 1944      French      1944       0   \n",
       "2                      Austrian, 1876–1957    Austrian      1876    1957   \n",
       "3  French and Swiss, born Switzerland 1944                  1944       0   \n",
       "4                      Austrian, 1876–1957    Austrian      1876    1957   \n",
       "\n",
       "  Gender  Date  ...                                         CreditLine  \\\n",
       "0   Male  1896  ...  Fractional and promised gift of Jo Carole and ...   \n",
       "1   Male  1987  ...  Gift of the architect in honor of Lily Auchinc...   \n",
       "2   Male  1903  ...             Gift of Jo Carole and Ronald S. Lauder   \n",
       "3   Male  1980  ...  Purchase and partial gift of the architect in ...   \n",
       "4   Male  1903  ...             Gift of Jo Carole and Ronald S. Lauder   \n",
       "\n",
       "  AccessionNumber Classification             Department DateAcquired  \\\n",
       "0        885.1996   Architecture  Architecture & Design   1996-04-09   \n",
       "1          1.1995   Architecture  Architecture & Design   1995-01-17   \n",
       "2          1.1997   Architecture  Architecture & Design   1997-01-15   \n",
       "3          2.1995   Architecture  Architecture & Design   1995-01-17   \n",
       "4          2.1997   Architecture  Architecture & Design   1997-01-15   \n",
       "\n",
       "  Cataloged ObjectID                                     URL Height (cm)  \\\n",
       "0         Y        2  http://www.moma.org/collection/works/2     48.6000   \n",
       "1         Y        3  http://www.moma.org/collection/works/3     40.6401   \n",
       "2         Y        4  http://www.moma.org/collection/works/4     34.3000   \n",
       "3         Y        5  http://www.moma.org/collection/works/5     50.8000   \n",
       "4         Y        6  http://www.moma.org/collection/works/6     38.4000   \n",
       "\n",
       "  Width (cm)  \n",
       "0   168.9000  \n",
       "1    29.8451  \n",
       "2    31.8000  \n",
       "3    50.8000  \n",
       "4    19.1000  \n",
       "\n",
       "[5 rows x 22 columns]"
      ]
     },
     "execution_count": 12,
     "metadata": {},
     "output_type": "execute_result"
    }
   ],
   "source": [
    "for col in parenthesis_col:\n",
    "    df5[col]=df5[col].str.replace('\\(','').str.replace('\\)','')\n",
    "    \n",
    "df5.head()"
   ]
  },
  {
   "cell_type": "markdown",
   "metadata": {},
   "source": [
    "# Clean Date values"
   ]
  },
  {
   "cell_type": "code",
   "execution_count": 72,
   "metadata": {},
   "outputs": [
    {
     "name": "stdout",
     "output_type": "stream",
     "text": [
      "['1896' '1987' '1903' ... '1961-1962' 'early 1980s' '1979–1983']\n",
      "total unique values in date:  8815\n"
     ]
    }
   ],
   "source": [
    "df6=df5.copy()\n",
    "print(df6.Date.unique())\n",
    "start_values=df6.Date.nunique()\n",
    "print(\"total unique values in date: \",start_values)"
   ]
  },
  {
   "cell_type": "code",
   "execution_count": 73,
   "metadata": {},
   "outputs": [],
   "source": [
    "df6.Date=df6.Date.astype(str)"
   ]
  },
  {
   "cell_type": "code",
   "execution_count": 74,
   "metadata": {},
   "outputs": [
    {
     "data": {
      "text/plain": [
       "0    135319\n",
       "Name: Date, dtype: int64"
      ]
     },
     "execution_count": 74,
     "metadata": {},
     "output_type": "execute_result"
    }
   ],
   "source": [
    "def test(date):\n",
    "    count_not_str=0\n",
    "    if type(date) != str:\n",
    "        count_not_str+=1\n",
    "    return count_not_str\n",
    "\n",
    "# Check if convert is working\n",
    "count_type=df6.Date.apply(test).value_counts()\n",
    "count_type"
   ]
  },
  {
   "cell_type": "code",
   "execution_count": 106,
   "metadata": {},
   "outputs": [
    {
     "name": "stdout",
     "output_type": "stream",
     "text": [
      "only letters\n"
     ]
    }
   ],
   "source": [
    "def clean_date(date):\n",
    "    if re.search('.[0-9]{4}$', date):\n",
    "        return date[-4:]\n",
    "    if re.search('^[0-9]{4}.', date):\n",
    "        return date[:4]\n",
    "    elif re.search('.[0-9]{4}.', date):\n",
    "        pos = re.search('[0-9]{4}', date).start()\n",
    "        return date[pos:pos+4]\n",
    "    elif re.search('[Uu]nk[n]*own', date):\n",
    "        return np.nan\n",
    "    elif re.search('[0-9]{3}\\?', date):\n",
    "        new_date = re.sub('\\?','0',date)\n",
    "        pos = re.search('[0-9]{4}', new_date).start()\n",
    "        return new_date[pos:pos+4]\n",
    "    elif re.search('^[a-zA-Z \\,\\?]+$', date):\n",
    "        return \"only letters\"\n",
    "    else:\n",
    "        return date\n",
    "    \n",
    "    \n",
    "# Testing function\n",
    "date='Lithograph with screenprinted binder'\n",
    "new_date=clean_date(date)\n",
    "print(new_date)"
   ]
  },
  {
   "cell_type": "code",
   "execution_count": 82,
   "metadata": {},
   "outputs": [
    {
     "name": "stdout",
     "output_type": "stream",
     "text": [
      "total unique values in date before clean 2:  8816\n",
      "1966                    2538\n",
      "1967                    2472\n",
      "nan                     2406\n",
      "1969                    2405\n",
      "1965                    2386\n",
      "                        ... \n",
      "1830                       1\n",
      "c. 196?                    1\n",
      "1635                       1\n",
      "1848                       1\n",
      "7th-8th century C.E.       1\n",
      "Name: Date, Length: 218, dtype: int64\n",
      "['1896' '1987' '1903' '1980' '1976' '1968' '1900' '1978' '1905' '1906'\n",
      " '1979' '1918' '1970' '1975' '1984' '1986' '1974' 'n.d.' '1917' '1923' nan\n",
      " '1930' '1936' '1935' '1937' '1938' '1977' '1958' '1985' '1989' '1949'\n",
      " '1964' '1991' '1941' '1965' '1981' '1983' '1988' '1992' '1915' '1953'\n",
      " '1910' '1982' '1945' '1924' '1990' '1995' '1931' '1929' '1959' '1920'\n",
      " '1939' '1993' '1996' '1952' '1921' '1957' '1972' '1956' '1962' '1925'\n",
      " '1960' '1969' '1963' '1994' '1961' '1928' '1927' '1933' '1967' '1934'\n",
      " '1940' '1946' '1955' '1997' '1922' '1942' '1954' '1973' '1926' '1932'\n",
      " '1947' '1943' '1944' '1966' '1971' '1999' '1913' '1951' '2002' '2001'\n",
      " '2000' '1886' '1950' '1901' '1948' '1912' '1908' '1902' '1904' '1916'\n",
      " '1998' '1914' '1875' '1898' '1909' '1907' '8th-9th century C.E.'\n",
      " '7th-8th century C.E.' '1600' '1897' '1895' 'nan' '1880' '1885' '1768'\n",
      " '1878' '1808' '1865' '1899' '1876' '1873' 'Various' '1860' '1866' '1830'\n",
      " '1840' '1919' '1884' '1883' '1894' '1893' '1879' '1892' '1890' '1877'\n",
      " '1911' '1891' '1889'\n",
      " 'London?, published in aid of the Comforts Fund  for Women and Children of Sovie'\n",
      " '1818' '1852' '1837' '1828' '1854' '1799' '1863' '1817' '1874' '1887'\n",
      " '2003' '1881' '1882' '1888' '1868' 'New York' '1858' '1853' '1850' '1856'\n",
      " '1846' '1855' '1862' '1843' '1872' '1861' '1864' '1869' '1870' '1857'\n",
      " '1826' '1829' '1859' '1844' '1867' '1851' '1845' '1839' '1871' '1838'\n",
      " '1805' '1811' '1809' '1849' '1841' '1842' 'November 10' '1832'\n",
      " 'date of publicati' 'nd' 'no date' '1847' '1810' '2004'\n",
      " 'Lithograph with screenprinted binder' '1825' '2005' '2006' 'n.d' '2010'\n",
      " '2007' '2011' 'newspaper published March 30' '2009' '2008' '1848' '2014'\n",
      " '2012' '1704' '1635' '2013' '2016' '2015' 'c. 196?' 'TBC' 'TBD' '2017'\n",
      " 'n. d.' '2018']\n",
      "total unique values in date after clean 2:  218\n"
     ]
    }
   ],
   "source": [
    "df8=df6.copy()\n",
    "before_clean2=df8.Date.nunique()\n",
    "print(\"total unique values in date before clean 2: \", before_clean2)\n",
    "\n",
    "df8.Date=df8.Date.apply(clean_date)\n",
    "\n",
    "print(df8.Date.value_counts())\n",
    "print(df8.Date.unique())\n",
    "clean2_values=df8.Date.nunique()\n",
    "print(\"total unique values in date after clean 2: \", clean2_values)"
   ]
  },
  {
   "cell_type": "code",
   "execution_count": 46,
   "metadata": {},
   "outputs": [
    {
     "name": "stdout",
     "output_type": "stream",
     "text": [
      "['1896' '1987' '1903' ... '1896-1903' '1961-1962' '1979–1983']\n",
      "total unique values in date after clean 1:  8236\n"
     ]
    }
   ],
   "source": [
    "df6.loc[:,'Date']=df6.loc[:,'Date'].str.replace(\"'\",'').str.replace('.','').str.replace('early','').str.replace('s','').str.replace('c.','').str.replace('After','').str.replace('or before','').str.replace(' publihed','').str.replace('printed ','').str.replace('newpaperSeptember','').str.replace('exeted','').str.replace('Before','').str.replace(' ','')\n",
    "print(df6.Date.unique())\n",
    "clean1_values=df6.Date.nunique()\n",
    "print(\"total unique values in date after clean 1: \", clean1_values)\n"
   ]
  },
  {
   "cell_type": "code",
   "execution_count": null,
   "metadata": {},
   "outputs": [],
   "source": []
  }
 ],
 "metadata": {
  "kernelspec": {
   "display_name": "Python 3",
   "language": "python",
   "name": "python3"
  },
  "language_info": {
   "codemirror_mode": {
    "name": "ipython",
    "version": 3
   },
   "file_extension": ".py",
   "mimetype": "text/x-python",
   "name": "python",
   "nbconvert_exporter": "python",
   "pygments_lexer": "ipython3",
   "version": "3.7.4"
  }
 },
 "nbformat": 4,
 "nbformat_minor": 2
}
